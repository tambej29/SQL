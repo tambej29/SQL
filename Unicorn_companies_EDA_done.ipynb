{
 "cells": [
  {
   "cell_type": "markdown",
   "metadata": {},
   "source": [
    "# Unicorn Companies EDA"
   ]
  },
  {
   "cell_type": "markdown",
   "metadata": {},
   "source": [
    "## Objective\n",
    "* Determine the number of companies founded each year\n",
    "* The time it tooked industries to attain unicorn status\n",
    "* The maximum valuation per industry\n",
    "* Average valuation of companies that attained unicorn status in 2020 vs 2021\n",
    "* Top countries by 10 Valuation"
   ]
  },
  {
   "cell_type": "code",
   "execution_count": 1,
   "metadata": {},
   "outputs": [],
   "source": [
    "# Import necessary libraries\n",
    "\n",
    "import pandas as pd\n",
    "import numpy as np\n",
    "import matplotlib.pyplot as plt\n",
    "import seaborn as sns\n",
    "import plotly.express as px\n",
    "import warnings # will remove wornings."
   ]
  },
  {
   "cell_type": "code",
   "execution_count": 2,
   "metadata": {},
   "outputs": [],
   "source": [
    "warnings.simplefilter('ignore')"
   ]
  },
  {
   "cell_type": "code",
   "execution_count": 3,
   "metadata": {},
   "outputs": [
    {
     "data": {
      "text/html": [
       "<div>\n",
       "<style scoped>\n",
       "    .dataframe tbody tr th:only-of-type {\n",
       "        vertical-align: middle;\n",
       "    }\n",
       "\n",
       "    .dataframe tbody tr th {\n",
       "        vertical-align: top;\n",
       "    }\n",
       "\n",
       "    .dataframe thead th {\n",
       "        text-align: right;\n",
       "    }\n",
       "</style>\n",
       "<table border=\"1\" class=\"dataframe\">\n",
       "  <thead>\n",
       "    <tr style=\"text-align: right;\">\n",
       "      <th></th>\n",
       "      <th>Company</th>\n",
       "      <th>Valuation</th>\n",
       "      <th>Date Joined</th>\n",
       "      <th>Industry</th>\n",
       "      <th>City</th>\n",
       "      <th>Country/Region</th>\n",
       "      <th>Continent</th>\n",
       "      <th>Year Founded</th>\n",
       "      <th>Funding</th>\n",
       "      <th>Select Investors</th>\n",
       "    </tr>\n",
       "  </thead>\n",
       "  <tbody>\n",
       "    <tr>\n",
       "      <th>0</th>\n",
       "      <td>Bytedance</td>\n",
       "      <td>$180B</td>\n",
       "      <td>4/7/17</td>\n",
       "      <td>Artificial intelligence</td>\n",
       "      <td>Beijing</td>\n",
       "      <td>China</td>\n",
       "      <td>Asia</td>\n",
       "      <td>2012</td>\n",
       "      <td>$8B</td>\n",
       "      <td>Sequoia Capital China, SIG Asia Investments, S...</td>\n",
       "    </tr>\n",
       "    <tr>\n",
       "      <th>1</th>\n",
       "      <td>SpaceX</td>\n",
       "      <td>$100B</td>\n",
       "      <td>12/1/12</td>\n",
       "      <td>Other</td>\n",
       "      <td>Hawthorne</td>\n",
       "      <td>United States</td>\n",
       "      <td>North America</td>\n",
       "      <td>2002</td>\n",
       "      <td>$7B</td>\n",
       "      <td>Founders Fund, Draper Fisher Jurvetson, Rothen...</td>\n",
       "    </tr>\n",
       "    <tr>\n",
       "      <th>2</th>\n",
       "      <td>SHEIN</td>\n",
       "      <td>$100B</td>\n",
       "      <td>7/3/18</td>\n",
       "      <td>E-commerce &amp; direct-to-consumer</td>\n",
       "      <td>Shenzhen</td>\n",
       "      <td>China</td>\n",
       "      <td>Asia</td>\n",
       "      <td>2008</td>\n",
       "      <td>$2B</td>\n",
       "      <td>Tiger Global Management, Sequoia Capital China...</td>\n",
       "    </tr>\n",
       "    <tr>\n",
       "      <th>3</th>\n",
       "      <td>Stripe</td>\n",
       "      <td>$95B</td>\n",
       "      <td>1/23/14</td>\n",
       "      <td>Fintech</td>\n",
       "      <td>San Francisco</td>\n",
       "      <td>United States</td>\n",
       "      <td>North America</td>\n",
       "      <td>2010</td>\n",
       "      <td>$2B</td>\n",
       "      <td>Khosla Ventures, LowercaseCapital, capitalG</td>\n",
       "    </tr>\n",
       "    <tr>\n",
       "      <th>4</th>\n",
       "      <td>Klarna</td>\n",
       "      <td>$46B</td>\n",
       "      <td>12/12/11</td>\n",
       "      <td>Fintech</td>\n",
       "      <td>Stockholm</td>\n",
       "      <td>Sweden</td>\n",
       "      <td>Europe</td>\n",
       "      <td>2005</td>\n",
       "      <td>$4B</td>\n",
       "      <td>Institutional Venture Partners, Sequoia Capita...</td>\n",
       "    </tr>\n",
       "  </tbody>\n",
       "</table>\n",
       "</div>"
      ],
      "text/plain": [
       "     Company Valuation Date Joined                         Industry   \n",
       "0  Bytedance     $180B      4/7/17          Artificial intelligence  \\\n",
       "1     SpaceX     $100B     12/1/12                            Other   \n",
       "2      SHEIN     $100B      7/3/18  E-commerce & direct-to-consumer   \n",
       "3     Stripe      $95B     1/23/14                          Fintech   \n",
       "4     Klarna      $46B    12/12/11                          Fintech   \n",
       "\n",
       "            City Country/Region      Continent  Year Founded Funding   \n",
       "0        Beijing          China           Asia          2012     $8B  \\\n",
       "1      Hawthorne  United States  North America          2002     $7B   \n",
       "2       Shenzhen          China           Asia          2008     $2B   \n",
       "3  San Francisco  United States  North America          2010     $2B   \n",
       "4      Stockholm         Sweden         Europe          2005     $4B   \n",
       "\n",
       "                                    Select Investors  \n",
       "0  Sequoia Capital China, SIG Asia Investments, S...  \n",
       "1  Founders Fund, Draper Fisher Jurvetson, Rothen...  \n",
       "2  Tiger Global Management, Sequoia Capital China...  \n",
       "3        Khosla Ventures, LowercaseCapital, capitalG  \n",
       "4  Institutional Venture Partners, Sequoia Capita...  "
      ]
     },
     "execution_count": 3,
     "metadata": {},
     "output_type": "execute_result"
    }
   ],
   "source": [
    "# Read in the dataset\n",
    "\n",
    "df = pd.read_csv('Unicorn_Companies.csv')\n",
    "\n",
    "df.head(5)"
   ]
  },
  {
   "cell_type": "code",
   "execution_count": 4,
   "metadata": {},
   "outputs": [
    {
     "data": {
      "text/plain": [
       "(1074, 10)"
      ]
     },
     "execution_count": 4,
     "metadata": {},
     "output_type": "execute_result"
    }
   ],
   "source": [
    "# Check the shape of the data\n",
    "\n",
    "df.shape"
   ]
  },
  {
   "cell_type": "code",
   "execution_count": 5,
   "metadata": {},
   "outputs": [
    {
     "name": "stdout",
     "output_type": "stream",
     "text": [
      "<class 'pandas.core.frame.DataFrame'>\n",
      "RangeIndex: 1074 entries, 0 to 1073\n",
      "Data columns (total 10 columns):\n",
      " #   Column            Non-Null Count  Dtype \n",
      "---  ------            --------------  ----- \n",
      " 0   Company           1074 non-null   object\n",
      " 1   Valuation         1074 non-null   object\n",
      " 2   Date Joined       1074 non-null   object\n",
      " 3   Industry          1074 non-null   object\n",
      " 4   City              1058 non-null   object\n",
      " 5   Country/Region    1074 non-null   object\n",
      " 6   Continent         1074 non-null   object\n",
      " 7   Year Founded      1074 non-null   int64 \n",
      " 8   Funding           1074 non-null   object\n",
      " 9   Select Investors  1073 non-null   object\n",
      "dtypes: int64(1), object(9)\n",
      "memory usage: 84.0+ KB\n"
     ]
    }
   ],
   "source": [
    "# Check the dataframe inofrmations\n",
    "\n",
    "df.info()"
   ]
  },
  {
   "cell_type": "code",
   "execution_count": 6,
   "metadata": {},
   "outputs": [
    {
     "data": {
      "text/plain": [
       "0"
      ]
     },
     "execution_count": 6,
     "metadata": {},
     "output_type": "execute_result"
    }
   ],
   "source": [
    "# Check for duplicates\n",
    "\n",
    "df.duplicated().sum()"
   ]
  },
  {
   "cell_type": "code",
   "execution_count": 7,
   "metadata": {},
   "outputs": [
    {
     "data": {
      "text/plain": [
       "1"
      ]
     },
     "execution_count": 7,
     "metadata": {},
     "output_type": "execute_result"
    }
   ],
   "source": [
    "# check for duplicated companies\n",
    "df.Company.duplicated().sum()"
   ]
  },
  {
   "cell_type": "markdown",
   "metadata": {},
   "source": [
    "* The dataset has 10 columns(index column not counted), and 1074 rows\n",
    "* It contains missing data on `City` and `Selected Investors`\n",
    "* The `Date Joined` is an object datatype, will cast it to a date datatype\n",
    "* The dataset has 1 duplicated company"
   ]
  },
  {
   "cell_type": "markdown",
   "metadata": {},
   "source": [
    "## Cleaning the dataset"
   ]
  },
  {
   "cell_type": "code",
   "execution_count": 8,
   "metadata": {},
   "outputs": [],
   "source": [
    "# Make a copy of the df\n",
    "\n",
    "uc = df.copy()"
   ]
  },
  {
   "cell_type": "code",
   "execution_count": 9,
   "metadata": {},
   "outputs": [
    {
     "name": "stdout",
     "output_type": "stream",
     "text": [
      "Count of duplicated rows\n",
      "1\n",
      "\n",
      "Count of duplicates after dropping\n",
      "0\n"
     ]
    }
   ],
   "source": [
    "print('Count of duplicated rows')\n",
    "print(uc.Company.duplicated().sum())\n",
    "print('')\n",
    "uc.drop_duplicates(subset='Company', inplace= True)\n",
    "print('Count of duplicates after dropping')\n",
    "print(uc.Company.duplicated().sum())"
   ]
  },
  {
   "cell_type": "code",
   "execution_count": 10,
   "metadata": {},
   "outputs": [
    {
     "data": {
      "text/plain": [
       "Company              0\n",
       "Valuation            0\n",
       "Date Joined          0\n",
       "Industry             0\n",
       "City                16\n",
       "Country/Region       0\n",
       "Continent            0\n",
       "Year Founded         0\n",
       "Funding              0\n",
       "Select Investors     1\n",
       "dtype: int64"
      ]
     },
     "execution_count": 10,
     "metadata": {},
     "output_type": "execute_result"
    }
   ],
   "source": [
    "# Check for nulls values\n",
    "\n",
    "uc.isnull().sum()"
   ]
  },
  {
   "cell_type": "code",
   "execution_count": 11,
   "metadata": {},
   "outputs": [
    {
     "data": {
      "text/plain": [
       "Company             0\n",
       "Valuation           0\n",
       "Date Joined         0\n",
       "Industry            0\n",
       "City                0\n",
       "Country/Region      0\n",
       "Continent           0\n",
       "Year Founded        0\n",
       "Funding             0\n",
       "Select Investors    0\n",
       "dtype: int64"
      ]
     },
     "execution_count": 11,
     "metadata": {},
     "output_type": "execute_result"
    }
   ],
   "source": [
    "# drop rows with null values\n",
    "uc.dropna(axis= 0, inplace= True)\n",
    "uc.isnull().sum()"
   ]
  },
  {
   "cell_type": "code",
   "execution_count": 12,
   "metadata": {},
   "outputs": [
    {
     "data": {
      "text/plain": [
       "Company                     object\n",
       "Valuation                   object\n",
       "Date Joined         datetime64[ns]\n",
       "Industry                    object\n",
       "City                        object\n",
       "Country/Region              object\n",
       "Continent                   object\n",
       "Year Founded                 int64\n",
       "Funding                     object\n",
       "Select Investors            object\n",
       "dtype: object"
      ]
     },
     "execution_count": 12,
     "metadata": {},
     "output_type": "execute_result"
    }
   ],
   "source": [
    "# Convert dat join from object to date\n",
    "uc['Date Joined'] = pd.to_datetime(uc['Date Joined'])\n",
    "uc.dtypes"
   ]
  },
  {
   "cell_type": "markdown",
   "metadata": {},
   "source": [
    "Create a `Year Joined`, for when companies attained unicorn status, and remove '$B' from `Valuation` and change it ton int"
   ]
  },
  {
   "cell_type": "code",
   "execution_count": 13,
   "metadata": {},
   "outputs": [],
   "source": [
    "uc['Year Joined'] = uc['Date Joined'].dt.year\n",
    "uc.Valuation = uc.Valuation.str.strip('$B').astype('int')"
   ]
  },
  {
   "cell_type": "code",
   "execution_count": 14,
   "metadata": {},
   "outputs": [
    {
     "data": {
      "text/plain": [
       "Company                     object\n",
       "Valuation                    int32\n",
       "Date Joined         datetime64[ns]\n",
       "Industry                    object\n",
       "City                        object\n",
       "Country/Region              object\n",
       "Continent                   object\n",
       "Year Founded                 int64\n",
       "Funding                     object\n",
       "Select Investors            object\n",
       "Year Joined                  int32\n",
       "dtype: object"
      ]
     },
     "execution_count": 14,
     "metadata": {},
     "output_type": "execute_result"
    }
   ],
   "source": [
    "uc.dtypes"
   ]
  },
  {
   "cell_type": "code",
   "execution_count": 15,
   "metadata": {},
   "outputs": [
    {
     "data": {
      "text/html": [
       "<div>\n",
       "<style scoped>\n",
       "    .dataframe tbody tr th:only-of-type {\n",
       "        vertical-align: middle;\n",
       "    }\n",
       "\n",
       "    .dataframe tbody tr th {\n",
       "        vertical-align: top;\n",
       "    }\n",
       "\n",
       "    .dataframe thead th {\n",
       "        text-align: right;\n",
       "    }\n",
       "</style>\n",
       "<table border=\"1\" class=\"dataframe\">\n",
       "  <thead>\n",
       "    <tr style=\"text-align: right;\">\n",
       "      <th></th>\n",
       "      <th>Company</th>\n",
       "      <th>Valuation</th>\n",
       "      <th>Date Joined</th>\n",
       "      <th>Industry</th>\n",
       "      <th>City</th>\n",
       "      <th>Country/Region</th>\n",
       "      <th>Continent</th>\n",
       "      <th>Year Founded</th>\n",
       "      <th>Funding</th>\n",
       "      <th>Select Investors</th>\n",
       "      <th>Year Joined</th>\n",
       "    </tr>\n",
       "  </thead>\n",
       "  <tbody>\n",
       "    <tr>\n",
       "      <th>0</th>\n",
       "      <td>Bytedance</td>\n",
       "      <td>180</td>\n",
       "      <td>2017-04-07</td>\n",
       "      <td>Artificial intelligence</td>\n",
       "      <td>Beijing</td>\n",
       "      <td>China</td>\n",
       "      <td>Asia</td>\n",
       "      <td>2012</td>\n",
       "      <td>$8B</td>\n",
       "      <td>Sequoia Capital China, SIG Asia Investments, S...</td>\n",
       "      <td>2017</td>\n",
       "    </tr>\n",
       "    <tr>\n",
       "      <th>1</th>\n",
       "      <td>SpaceX</td>\n",
       "      <td>100</td>\n",
       "      <td>2012-12-01</td>\n",
       "      <td>Other</td>\n",
       "      <td>Hawthorne</td>\n",
       "      <td>United States</td>\n",
       "      <td>North America</td>\n",
       "      <td>2002</td>\n",
       "      <td>$7B</td>\n",
       "      <td>Founders Fund, Draper Fisher Jurvetson, Rothen...</td>\n",
       "      <td>2012</td>\n",
       "    </tr>\n",
       "    <tr>\n",
       "      <th>2</th>\n",
       "      <td>SHEIN</td>\n",
       "      <td>100</td>\n",
       "      <td>2018-07-03</td>\n",
       "      <td>E-commerce &amp; direct-to-consumer</td>\n",
       "      <td>Shenzhen</td>\n",
       "      <td>China</td>\n",
       "      <td>Asia</td>\n",
       "      <td>2008</td>\n",
       "      <td>$2B</td>\n",
       "      <td>Tiger Global Management, Sequoia Capital China...</td>\n",
       "      <td>2018</td>\n",
       "    </tr>\n",
       "    <tr>\n",
       "      <th>3</th>\n",
       "      <td>Stripe</td>\n",
       "      <td>95</td>\n",
       "      <td>2014-01-23</td>\n",
       "      <td>Fintech</td>\n",
       "      <td>San Francisco</td>\n",
       "      <td>United States</td>\n",
       "      <td>North America</td>\n",
       "      <td>2010</td>\n",
       "      <td>$2B</td>\n",
       "      <td>Khosla Ventures, LowercaseCapital, capitalG</td>\n",
       "      <td>2014</td>\n",
       "    </tr>\n",
       "    <tr>\n",
       "      <th>4</th>\n",
       "      <td>Klarna</td>\n",
       "      <td>46</td>\n",
       "      <td>2011-12-12</td>\n",
       "      <td>Fintech</td>\n",
       "      <td>Stockholm</td>\n",
       "      <td>Sweden</td>\n",
       "      <td>Europe</td>\n",
       "      <td>2005</td>\n",
       "      <td>$4B</td>\n",
       "      <td>Institutional Venture Partners, Sequoia Capita...</td>\n",
       "      <td>2011</td>\n",
       "    </tr>\n",
       "    <tr>\n",
       "      <th>5</th>\n",
       "      <td>Canva</td>\n",
       "      <td>40</td>\n",
       "      <td>2018-01-08</td>\n",
       "      <td>Internet software &amp; services</td>\n",
       "      <td>Surry Hills</td>\n",
       "      <td>Australia</td>\n",
       "      <td>Oceania</td>\n",
       "      <td>2012</td>\n",
       "      <td>$572M</td>\n",
       "      <td>Sequoia Capital China, Blackbird Ventures, Mat...</td>\n",
       "      <td>2018</td>\n",
       "    </tr>\n",
       "    <tr>\n",
       "      <th>6</th>\n",
       "      <td>Checkout.com</td>\n",
       "      <td>40</td>\n",
       "      <td>2019-05-02</td>\n",
       "      <td>Fintech</td>\n",
       "      <td>London</td>\n",
       "      <td>United Kingdom</td>\n",
       "      <td>Europe</td>\n",
       "      <td>2012</td>\n",
       "      <td>$2B</td>\n",
       "      <td>Tiger Global Management, Insight Partners, DST...</td>\n",
       "      <td>2019</td>\n",
       "    </tr>\n",
       "    <tr>\n",
       "      <th>7</th>\n",
       "      <td>Instacart</td>\n",
       "      <td>39</td>\n",
       "      <td>2014-12-30</td>\n",
       "      <td>Supply chain, logistics, &amp; delivery</td>\n",
       "      <td>San Francisco</td>\n",
       "      <td>United States</td>\n",
       "      <td>North America</td>\n",
       "      <td>2012</td>\n",
       "      <td>$3B</td>\n",
       "      <td>Khosla Ventures, Kleiner Perkins Caufield &amp; By...</td>\n",
       "      <td>2014</td>\n",
       "    </tr>\n",
       "    <tr>\n",
       "      <th>8</th>\n",
       "      <td>JUUL Labs</td>\n",
       "      <td>38</td>\n",
       "      <td>2017-12-20</td>\n",
       "      <td>Consumer &amp; retail</td>\n",
       "      <td>San Francisco</td>\n",
       "      <td>United States</td>\n",
       "      <td>North America</td>\n",
       "      <td>2015</td>\n",
       "      <td>$14B</td>\n",
       "      <td>Tiger Global Management</td>\n",
       "      <td>2017</td>\n",
       "    </tr>\n",
       "    <tr>\n",
       "      <th>9</th>\n",
       "      <td>Databricks</td>\n",
       "      <td>38</td>\n",
       "      <td>2019-02-05</td>\n",
       "      <td>Data management &amp; analytics</td>\n",
       "      <td>San Francisco</td>\n",
       "      <td>United States</td>\n",
       "      <td>North America</td>\n",
       "      <td>2013</td>\n",
       "      <td>$3B</td>\n",
       "      <td>Andreessen Horowitz, New Enterprise Associates...</td>\n",
       "      <td>2019</td>\n",
       "    </tr>\n",
       "  </tbody>\n",
       "</table>\n",
       "</div>"
      ],
      "text/plain": [
       "        Company  Valuation Date Joined                             Industry   \n",
       "0     Bytedance        180  2017-04-07              Artificial intelligence  \\\n",
       "1        SpaceX        100  2012-12-01                                Other   \n",
       "2         SHEIN        100  2018-07-03      E-commerce & direct-to-consumer   \n",
       "3        Stripe         95  2014-01-23                              Fintech   \n",
       "4        Klarna         46  2011-12-12                              Fintech   \n",
       "5         Canva         40  2018-01-08         Internet software & services   \n",
       "6  Checkout.com         40  2019-05-02                              Fintech   \n",
       "7     Instacart         39  2014-12-30  Supply chain, logistics, & delivery   \n",
       "8     JUUL Labs         38  2017-12-20                    Consumer & retail   \n",
       "9    Databricks         38  2019-02-05          Data management & analytics   \n",
       "\n",
       "            City  Country/Region      Continent  Year Founded Funding   \n",
       "0        Beijing           China           Asia          2012     $8B  \\\n",
       "1      Hawthorne   United States  North America          2002     $7B   \n",
       "2       Shenzhen           China           Asia          2008     $2B   \n",
       "3  San Francisco   United States  North America          2010     $2B   \n",
       "4      Stockholm          Sweden         Europe          2005     $4B   \n",
       "5    Surry Hills       Australia        Oceania          2012   $572M   \n",
       "6         London  United Kingdom         Europe          2012     $2B   \n",
       "7  San Francisco   United States  North America          2012     $3B   \n",
       "8  San Francisco   United States  North America          2015    $14B   \n",
       "9  San Francisco   United States  North America          2013     $3B   \n",
       "\n",
       "                                    Select Investors  Year Joined  \n",
       "0  Sequoia Capital China, SIG Asia Investments, S...         2017  \n",
       "1  Founders Fund, Draper Fisher Jurvetson, Rothen...         2012  \n",
       "2  Tiger Global Management, Sequoia Capital China...         2018  \n",
       "3        Khosla Ventures, LowercaseCapital, capitalG         2014  \n",
       "4  Institutional Venture Partners, Sequoia Capita...         2011  \n",
       "5  Sequoia Capital China, Blackbird Ventures, Mat...         2018  \n",
       "6  Tiger Global Management, Insight Partners, DST...         2019  \n",
       "7  Khosla Ventures, Kleiner Perkins Caufield & By...         2014  \n",
       "8                            Tiger Global Management         2017  \n",
       "9  Andreessen Horowitz, New Enterprise Associates...         2019  "
      ]
     },
     "execution_count": 15,
     "metadata": {},
     "output_type": "execute_result"
    }
   ],
   "source": [
    "uc.head(10)"
   ]
  },
  {
   "cell_type": "markdown",
   "metadata": {},
   "source": [
    "## What is the number of companies founded per year"
   ]
  },
  {
   "cell_type": "code",
   "execution_count": 16,
   "metadata": {},
   "outputs": [
    {
     "data": {
      "text/plain": [
       "Year Founded\n",
       "2015    151\n",
       "2016    109\n",
       "2014    106\n",
       "2012     94\n",
       "2013     85\n",
       "2011     81\n",
       "2017     74\n",
       "2018     59\n",
       "2019     44\n",
       "2010     39\n",
       "2009     34\n",
       "2008     27\n",
       "2020     24\n",
       "2007     23\n",
       "2006     15\n",
       "2005     14\n",
       "2000     11\n",
       "2021     11\n",
       "2001      9\n",
       "1999      8\n",
       "2003      8\n",
       "2004      8\n",
       "1998      5\n",
       "2002      4\n",
       "1995      2\n",
       "1994      2\n",
       "1996      1\n",
       "1919      1\n",
       "1979      1\n",
       "1992      1\n",
       "1991      1\n",
       "1990      1\n",
       "1984      1\n",
       "1993      1\n",
       "1997      1\n",
       "Name: count, dtype: int64"
      ]
     },
     "execution_count": 16,
     "metadata": {},
     "output_type": "execute_result"
    }
   ],
   "source": [
    "uc['Year Founded'].value_counts().sort_values(ascending= False)"
   ]
  },
  {
   "cell_type": "code",
   "execution_count": 17,
   "metadata": {},
   "outputs": [
    {
     "data": {
      "text/plain": [
       "Text(0.5, 1.0, 'Number of companies founded earh year')"
      ]
     },
     "execution_count": 17,
     "metadata": {},
     "output_type": "execute_result"
    },
    {
     "data": {
      "image/png": "[encoded data removed]",
      "text/plain": [
       "<Figure size 640x480 with 1 Axes>"
      ]
     },
     "metadata": {},
     "output_type": "display_data"
    }
   ],
   "source": [
    "sns.set_palette('cool')\n",
    "sns.histplot(x= uc['Year Founded'], element= 'step')\n",
    "plt.title('Number of companies founded earh year')"
   ]
  },
  {
   "cell_type": "markdown",
   "metadata": {},
   "source": [
    "* Most companies were founed between 2011- 2017"
   ]
  },
  {
   "cell_type": "markdown",
   "metadata": {},
   "source": [
    "## How long did it take each industries to attain unicorn?"
   ]
  },
  {
   "cell_type": "code",
   "execution_count": 18,
   "metadata": {},
   "outputs": [],
   "source": [
    "# create a column for the time it took to attain unicorn status\n",
    "uc['Year To Unicorn']= uc['Year Joined'] - uc['Year Founded']"
   ]
  },
  {
   "cell_type": "code",
   "execution_count": 19,
   "metadata": {},
   "outputs": [
    {
     "data": {
      "text/plain": [
       "array(['Artificial intelligence', 'Other',\n",
       "       'E-commerce & direct-to-consumer', 'Fintech',\n",
       "       'Internet software & services',\n",
       "       'Supply chain, logistics, & delivery', 'Consumer & retail',\n",
       "       'Data management & analytics', 'Edtech', 'Health', 'Hardware',\n",
       "       'Auto & transportation', 'Travel', 'Cybersecurity',\n",
       "       'Mobile & telecommunications', 'Artificial Intelligence'],\n",
       "      dtype=object)"
      ]
     },
     "execution_count": 19,
     "metadata": {},
     "output_type": "execute_result"
    }
   ],
   "source": [
    "# Check the unique industries in this dataset\n",
    "uc.Industry.unique()"
   ]
  },
  {
   "cell_type": "code",
   "execution_count": 20,
   "metadata": {},
   "outputs": [
    {
     "data": {
      "text/plain": [
       "array(['Artificial Intelligence', 'Other',\n",
       "       'E-commerce & direct-to-consumer', 'Fintech',\n",
       "       'Internet software & services',\n",
       "       'Supply chain, logistics, & delivery', 'Consumer & retail',\n",
       "       'Data management & analytics', 'Edtech', 'Health', 'Hardware',\n",
       "       'Auto & transportation', 'Travel', 'Cybersecurity',\n",
       "       'Mobile & telecommunications'], dtype=object)"
      ]
     },
     "execution_count": 20,
     "metadata": {},
     "output_type": "execute_result"
    }
   ],
   "source": [
    "# There 2 field for artitificial intelligence\n",
    "# Merge the 2 fields into one\n",
    "\n",
    "corrected_name= {'Artificial intelligence':'Artificial Intelligence'}\n",
    "uc.Industry= uc.Industry.replace(corrected_name)\n",
    "uc.Industry.unique()"
   ]
  },
  {
   "cell_type": "code",
   "execution_count": 21,
   "metadata": {},
   "outputs": [
    {
     "data": {
      "image/png": "[encoded data removed]",
      "text/plain": [
       "<Figure size 640x480 with 1 Axes>"
      ]
     },
     "metadata": {},
     "output_type": "display_data"
    }
   ],
   "source": [
    "plt.bar(data= uc, x= 'Industry', height= 'Year To Unicorn')\n",
    "plt.title('Maximum number of years to attain unicorn status per industry')\n",
    "plt.ylabel('Number of Years')\n",
    "plt.xlabel('Industry')\n",
    "plt.xticks(rotation= 45, horizontalalignment= 'right')\n",
    "plt.show()"
   ]
  },
  {
   "cell_type": "markdown",
   "metadata": {},
   "source": [
    "* The result is the sum of companies per industries\n",
    "* The high number of years to attain unicorn status is due to the facts some of the companies were founded back in the 19** and attained unicorn status in the 20**"
   ]
  },
  {
   "cell_type": "code",
   "execution_count": 22,
   "metadata": {},
   "outputs": [
    {
     "data": {
      "text/html": [
       "<div>\n",
       "<style scoped>\n",
       "    .dataframe tbody tr th:only-of-type {\n",
       "        vertical-align: middle;\n",
       "    }\n",
       "\n",
       "    .dataframe tbody tr th {\n",
       "        vertical-align: top;\n",
       "    }\n",
       "\n",
       "    .dataframe thead th {\n",
       "        text-align: right;\n",
       "    }\n",
       "</style>\n",
       "<table border=\"1\" class=\"dataframe\">\n",
       "  <thead>\n",
       "    <tr style=\"text-align: right;\">\n",
       "      <th></th>\n",
       "      <th>Company</th>\n",
       "      <th>Valuation</th>\n",
       "      <th>Date Joined</th>\n",
       "      <th>Industry</th>\n",
       "      <th>City</th>\n",
       "      <th>Country/Region</th>\n",
       "      <th>Continent</th>\n",
       "      <th>Year Founded</th>\n",
       "      <th>Funding</th>\n",
       "      <th>Select Investors</th>\n",
       "      <th>Year Joined</th>\n",
       "      <th>Year To Unicorn</th>\n",
       "    </tr>\n",
       "  </thead>\n",
       "  <tbody>\n",
       "    <tr>\n",
       "      <th>189</th>\n",
       "      <td>Otto Bock HealthCare</td>\n",
       "      <td>4</td>\n",
       "      <td>2017-06-24</td>\n",
       "      <td>Health</td>\n",
       "      <td>Duderstadt</td>\n",
       "      <td>Germany</td>\n",
       "      <td>Europe</td>\n",
       "      <td>1919</td>\n",
       "      <td>$0M</td>\n",
       "      <td>EQT Partners</td>\n",
       "      <td>2017</td>\n",
       "      <td>98</td>\n",
       "    </tr>\n",
       "    <tr>\n",
       "      <th>1043</th>\n",
       "      <td>Thirty Madison</td>\n",
       "      <td>1</td>\n",
       "      <td>2021-06-02</td>\n",
       "      <td>Health</td>\n",
       "      <td>New York</td>\n",
       "      <td>United States</td>\n",
       "      <td>North America</td>\n",
       "      <td>1993</td>\n",
       "      <td>$210M</td>\n",
       "      <td>Northzone Ventures, Maveron, Johnson &amp; Johnson...</td>\n",
       "      <td>2021</td>\n",
       "      <td>28</td>\n",
       "    </tr>\n",
       "    <tr>\n",
       "      <th>211</th>\n",
       "      <td>Intarcia Therapeutics</td>\n",
       "      <td>4</td>\n",
       "      <td>2014-04-01</td>\n",
       "      <td>Health</td>\n",
       "      <td>Boston</td>\n",
       "      <td>United States</td>\n",
       "      <td>North America</td>\n",
       "      <td>1995</td>\n",
       "      <td>$1B</td>\n",
       "      <td>New Enterprise Associates, New Leaf Venture Pa...</td>\n",
       "      <td>2014</td>\n",
       "      <td>19</td>\n",
       "    </tr>\n",
       "    <tr>\n",
       "      <th>79</th>\n",
       "      <td>Caris Life Sciences</td>\n",
       "      <td>8</td>\n",
       "      <td>2021-05-12</td>\n",
       "      <td>Health</td>\n",
       "      <td>Irving</td>\n",
       "      <td>United States</td>\n",
       "      <td>North America</td>\n",
       "      <td>1996</td>\n",
       "      <td>$1B</td>\n",
       "      <td>Sixth Street Partners, OrbiMed Advisors, Highl...</td>\n",
       "      <td>2021</td>\n",
       "      <td>25</td>\n",
       "    </tr>\n",
       "    <tr>\n",
       "      <th>736</th>\n",
       "      <td>InSightec</td>\n",
       "      <td>1</td>\n",
       "      <td>2020-03-06</td>\n",
       "      <td>Health</td>\n",
       "      <td>Tirat Carmel</td>\n",
       "      <td>Israel</td>\n",
       "      <td>Asia</td>\n",
       "      <td>1999</td>\n",
       "      <td>$633M</td>\n",
       "      <td>York Capital Management, GE Healthcare, Koch D...</td>\n",
       "      <td>2020</td>\n",
       "      <td>21</td>\n",
       "    </tr>\n",
       "    <tr>\n",
       "      <th>...</th>\n",
       "      <td>...</td>\n",
       "      <td>...</td>\n",
       "      <td>...</td>\n",
       "      <td>...</td>\n",
       "      <td>...</td>\n",
       "      <td>...</td>\n",
       "      <td>...</td>\n",
       "      <td>...</td>\n",
       "      <td>...</td>\n",
       "      <td>...</td>\n",
       "      <td>...</td>\n",
       "      <td>...</td>\n",
       "    </tr>\n",
       "    <tr>\n",
       "      <th>784</th>\n",
       "      <td>Prime Medicine</td>\n",
       "      <td>1</td>\n",
       "      <td>2021-07-13</td>\n",
       "      <td>Health</td>\n",
       "      <td>Cambridge</td>\n",
       "      <td>United States</td>\n",
       "      <td>North America</td>\n",
       "      <td>2019</td>\n",
       "      <td>$315M</td>\n",
       "      <td>Newpath Partners, Google Ventures, F-Prime Cap...</td>\n",
       "      <td>2021</td>\n",
       "      <td>2</td>\n",
       "    </tr>\n",
       "    <tr>\n",
       "      <th>884</th>\n",
       "      <td>Cadence</td>\n",
       "      <td>1</td>\n",
       "      <td>2021-12-14</td>\n",
       "      <td>Health</td>\n",
       "      <td>New York</td>\n",
       "      <td>United States</td>\n",
       "      <td>North America</td>\n",
       "      <td>2020</td>\n",
       "      <td>$141M</td>\n",
       "      <td>Thrive Capital, General Catalyst, Coatue Manag...</td>\n",
       "      <td>2021</td>\n",
       "      <td>1</td>\n",
       "    </tr>\n",
       "    <tr>\n",
       "      <th>613</th>\n",
       "      <td>EQRx</td>\n",
       "      <td>1</td>\n",
       "      <td>2021-01-11</td>\n",
       "      <td>Health</td>\n",
       "      <td>Cambridge</td>\n",
       "      <td>United States</td>\n",
       "      <td>North America</td>\n",
       "      <td>2020</td>\n",
       "      <td>$700M</td>\n",
       "      <td>Nextech Invest, Casdin Capital, Google Ventures</td>\n",
       "      <td>2021</td>\n",
       "      <td>1</td>\n",
       "    </tr>\n",
       "    <tr>\n",
       "      <th>151</th>\n",
       "      <td>Cerebral</td>\n",
       "      <td>5</td>\n",
       "      <td>2021-06-10</td>\n",
       "      <td>Health</td>\n",
       "      <td>San Francisco</td>\n",
       "      <td>United States</td>\n",
       "      <td>North America</td>\n",
       "      <td>2020</td>\n",
       "      <td>$462M</td>\n",
       "      <td>Oak HC/FT Partners, Artis Ventures, WestCap Group</td>\n",
       "      <td>2021</td>\n",
       "      <td>1</td>\n",
       "    </tr>\n",
       "    <tr>\n",
       "      <th>459</th>\n",
       "      <td>Transcarent</td>\n",
       "      <td>2</td>\n",
       "      <td>2022-01-11</td>\n",
       "      <td>Health</td>\n",
       "      <td>San Francisco</td>\n",
       "      <td>United States</td>\n",
       "      <td>North America</td>\n",
       "      <td>2020</td>\n",
       "      <td>$298M</td>\n",
       "      <td>Alta Partners, General Catalyst, Jove Equity P...</td>\n",
       "      <td>2022</td>\n",
       "      <td>2</td>\n",
       "    </tr>\n",
       "  </tbody>\n",
       "</table>\n",
       "<p>74 rows × 12 columns</p>\n",
       "</div>"
      ],
      "text/plain": [
       "                    Company  Valuation Date Joined Industry           City   \n",
       "189    Otto Bock HealthCare          4  2017-06-24   Health     Duderstadt  \\\n",
       "1043         Thirty Madison          1  2021-06-02   Health       New York   \n",
       "211   Intarcia Therapeutics          4  2014-04-01   Health         Boston   \n",
       "79      Caris Life Sciences          8  2021-05-12   Health         Irving   \n",
       "736               InSightec          1  2020-03-06   Health   Tirat Carmel   \n",
       "...                     ...        ...         ...      ...            ...   \n",
       "784          Prime Medicine          1  2021-07-13   Health      Cambridge   \n",
       "884                 Cadence          1  2021-12-14   Health       New York   \n",
       "613                    EQRx          1  2021-01-11   Health      Cambridge   \n",
       "151                Cerebral          5  2021-06-10   Health  San Francisco   \n",
       "459             Transcarent          2  2022-01-11   Health  San Francisco   \n",
       "\n",
       "     Country/Region      Continent  Year Founded Funding   \n",
       "189         Germany         Europe          1919     $0M  \\\n",
       "1043  United States  North America          1993   $210M   \n",
       "211   United States  North America          1995     $1B   \n",
       "79    United States  North America          1996     $1B   \n",
       "736          Israel           Asia          1999   $633M   \n",
       "...             ...            ...           ...     ...   \n",
       "784   United States  North America          2019   $315M   \n",
       "884   United States  North America          2020   $141M   \n",
       "613   United States  North America          2020   $700M   \n",
       "151   United States  North America          2020   $462M   \n",
       "459   United States  North America          2020   $298M   \n",
       "\n",
       "                                       Select Investors  Year Joined   \n",
       "189                                        EQT Partners         2017  \\\n",
       "1043  Northzone Ventures, Maveron, Johnson & Johnson...         2021   \n",
       "211   New Enterprise Associates, New Leaf Venture Pa...         2014   \n",
       "79    Sixth Street Partners, OrbiMed Advisors, Highl...         2021   \n",
       "736   York Capital Management, GE Healthcare, Koch D...         2020   \n",
       "...                                                 ...          ...   \n",
       "784   Newpath Partners, Google Ventures, F-Prime Cap...         2021   \n",
       "884   Thrive Capital, General Catalyst, Coatue Manag...         2021   \n",
       "613     Nextech Invest, Casdin Capital, Google Ventures         2021   \n",
       "151   Oak HC/FT Partners, Artis Ventures, WestCap Group         2021   \n",
       "459   Alta Partners, General Catalyst, Jove Equity P...         2022   \n",
       "\n",
       "      Year To Unicorn  \n",
       "189                98  \n",
       "1043               28  \n",
       "211                19  \n",
       "79                 25  \n",
       "736                21  \n",
       "...               ...  \n",
       "784                 2  \n",
       "884                 1  \n",
       "613                 1  \n",
       "151                 1  \n",
       "459                 2  \n",
       "\n",
       "[74 rows x 12 columns]"
      ]
     },
     "execution_count": 22,
     "metadata": {},
     "output_type": "execute_result"
    }
   ],
   "source": [
    "uc[uc['Industry']=='Health'].sort_values(by= 'Year Founded')"
   ]
  },
  {
   "cell_type": "markdown",
   "metadata": {},
   "source": [
    "## Maximum companies valuation per industry"
   ]
  },
  {
   "cell_type": "code",
   "execution_count": 23,
   "metadata": {},
   "outputs": [
    {
     "data": {
      "image/png": "[encoded data removed]",
      "text/plain": [
       "<Figure size 640x480 with 1 Axes>"
      ]
     },
     "metadata": {},
     "output_type": "display_data"
    }
   ],
   "source": [
    "plt.bar(uc.Industry, uc.Valuation)\n",
    "plt.title('Max comapny valuation per industry')\n",
    "plt.xlabel('Industry')\n",
    "plt.ylabel('Max valuation')\n",
    "plt.xticks(rotation = 45, horizontalalignment= 'right')\n",
    "plt.show()"
   ]
  },
  {
   "cell_type": "markdown",
   "metadata": {},
   "source": [
    "`Artificial Inteligence` is the most valued industry"
   ]
  },
  {
   "cell_type": "markdown",
   "metadata": {},
   "source": [
    "## Time to attain unicorn status per year founded"
   ]
  },
  {
   "cell_type": "code",
   "execution_count": 24,
   "metadata": {},
   "outputs": [
    {
     "data": {
      "image/png": "[encoded data removed]",
      "text/plain": [
       "<Figure size 1000x500 with 1 Axes>"
      ]
     },
     "metadata": {},
     "output_type": "display_data"
    }
   ],
   "source": [
    "plt.figure(figsize= (10, 5))\n",
    "sns.barplot(data= uc, x= 'Year Founded', y='Year To Unicorn', errorbar= ('ci', False), palette= 'cool')\n",
    "plt.title('Years to attain unicorn status per year founded')\n",
    "plt.xticks(rotation= 45,horizontalalignment= 'right');"
   ]
  },
  {
   "cell_type": "markdown",
   "metadata": {},
   "source": [
    "It takes newer companies less time to attain unicorn statust"
   ]
  },
  {
   "cell_type": "markdown",
   "metadata": {},
   "source": [
    "## Average `Valuation` of companies that attained unicorn status in 2020 vs 2021"
   ]
  },
  {
   "cell_type": "code",
   "execution_count": 25,
   "metadata": {},
   "outputs": [],
   "source": [
    "# Create a new df with data Filtered to  companies that attained unicorn status in 2020, and 2021\n",
    "year= [2020, 2021]\n",
    "\n",
    "uc_20_21=  uc[uc['Year Joined'].isin(year)]\n",
    "\n",
    "# Create a new fields for quarters which will be used to to compared, valueation between the 2 dates.\n",
    "\n",
    "uc_20_21['Quarter Joined']= uc_20_21['Date Joined'].dt.to_period('Q').dt.strftime('%Y-Q%q')"
   ]
  },
  {
   "cell_type": "code",
   "execution_count": 26,
   "metadata": {},
   "outputs": [
    {
     "data": {
      "text/html": [
       "<div>\n",
       "<style scoped>\n",
       "    .dataframe tbody tr th:only-of-type {\n",
       "        vertical-align: middle;\n",
       "    }\n",
       "\n",
       "    .dataframe tbody tr th {\n",
       "        vertical-align: top;\n",
       "    }\n",
       "\n",
       "    .dataframe thead th {\n",
       "        text-align: right;\n",
       "    }\n",
       "</style>\n",
       "<table border=\"1\" class=\"dataframe\">\n",
       "  <thead>\n",
       "    <tr style=\"text-align: right;\">\n",
       "      <th></th>\n",
       "      <th>Company</th>\n",
       "      <th>Valuation</th>\n",
       "      <th>Date Joined</th>\n",
       "      <th>Industry</th>\n",
       "      <th>City</th>\n",
       "      <th>Country/Region</th>\n",
       "      <th>Continent</th>\n",
       "      <th>Year Founded</th>\n",
       "      <th>Funding</th>\n",
       "      <th>Select Investors</th>\n",
       "      <th>Year Joined</th>\n",
       "      <th>Year To Unicorn</th>\n",
       "      <th>Quarter Joined</th>\n",
       "    </tr>\n",
       "  </thead>\n",
       "  <tbody>\n",
       "    <tr>\n",
       "      <th>16</th>\n",
       "      <td>J&amp;T Express</td>\n",
       "      <td>20</td>\n",
       "      <td>2021-04-07</td>\n",
       "      <td>Supply chain, logistics, &amp; delivery</td>\n",
       "      <td>Jakarta</td>\n",
       "      <td>Indonesia</td>\n",
       "      <td>Asia</td>\n",
       "      <td>2015</td>\n",
       "      <td>$5B</td>\n",
       "      <td>Hillhouse Capital Management, Boyu Capital, Se...</td>\n",
       "      <td>2021</td>\n",
       "      <td>6</td>\n",
       "      <td>2021-Q2</td>\n",
       "    </tr>\n",
       "    <tr>\n",
       "      <th>22</th>\n",
       "      <td>Genki Forest</td>\n",
       "      <td>15</td>\n",
       "      <td>2020-03-01</td>\n",
       "      <td>Consumer &amp; retail</td>\n",
       "      <td>Beijing</td>\n",
       "      <td>China</td>\n",
       "      <td>Asia</td>\n",
       "      <td>2016</td>\n",
       "      <td>$721M</td>\n",
       "      <td>Sequoia Capital China, Longfor Capitalm, Gaoro...</td>\n",
       "      <td>2020</td>\n",
       "      <td>4</td>\n",
       "      <td>2020-Q1</td>\n",
       "    </tr>\n",
       "    <tr>\n",
       "      <th>23</th>\n",
       "      <td>goPuff</td>\n",
       "      <td>15</td>\n",
       "      <td>2020-10-08</td>\n",
       "      <td>E-commerce &amp; direct-to-consumer</td>\n",
       "      <td>Philadelphia</td>\n",
       "      <td>United States</td>\n",
       "      <td>North America</td>\n",
       "      <td>2013</td>\n",
       "      <td>$3B</td>\n",
       "      <td>Accel, Softbank Group, Anthos Capital</td>\n",
       "      <td>2020</td>\n",
       "      <td>7</td>\n",
       "      <td>2020-Q4</td>\n",
       "    </tr>\n",
       "    <tr>\n",
       "      <th>24</th>\n",
       "      <td>Blockchain.com</td>\n",
       "      <td>14</td>\n",
       "      <td>2021-02-17</td>\n",
       "      <td>Fintech</td>\n",
       "      <td>London</td>\n",
       "      <td>United Kingdom</td>\n",
       "      <td>Europe</td>\n",
       "      <td>2011</td>\n",
       "      <td>$490M</td>\n",
       "      <td>Lightspeed Venture Partners, Google Ventures, ...</td>\n",
       "      <td>2021</td>\n",
       "      <td>10</td>\n",
       "      <td>2021-Q1</td>\n",
       "    </tr>\n",
       "    <tr>\n",
       "      <th>27</th>\n",
       "      <td>OpenSea</td>\n",
       "      <td>13</td>\n",
       "      <td>2021-07-20</td>\n",
       "      <td>E-commerce &amp; direct-to-consumer</td>\n",
       "      <td>New York</td>\n",
       "      <td>United States</td>\n",
       "      <td>North America</td>\n",
       "      <td>2017</td>\n",
       "      <td>$427M</td>\n",
       "      <td>Andreessen Horowitz, Thirty Five Ventures, Sou...</td>\n",
       "      <td>2021</td>\n",
       "      <td>4</td>\n",
       "      <td>2021-Q3</td>\n",
       "    </tr>\n",
       "  </tbody>\n",
       "</table>\n",
       "</div>"
      ],
      "text/plain": [
       "           Company  Valuation Date Joined   \n",
       "16     J&T Express         20  2021-04-07  \\\n",
       "22    Genki Forest         15  2020-03-01   \n",
       "23          goPuff         15  2020-10-08   \n",
       "24  Blockchain.com         14  2021-02-17   \n",
       "27         OpenSea         13  2021-07-20   \n",
       "\n",
       "                               Industry          City  Country/Region   \n",
       "16  Supply chain, logistics, & delivery       Jakarta       Indonesia  \\\n",
       "22                    Consumer & retail       Beijing           China   \n",
       "23      E-commerce & direct-to-consumer  Philadelphia   United States   \n",
       "24                              Fintech        London  United Kingdom   \n",
       "27      E-commerce & direct-to-consumer      New York   United States   \n",
       "\n",
       "        Continent  Year Founded Funding   \n",
       "16           Asia          2015     $5B  \\\n",
       "22           Asia          2016   $721M   \n",
       "23  North America          2013     $3B   \n",
       "24         Europe          2011   $490M   \n",
       "27  North America          2017   $427M   \n",
       "\n",
       "                                     Select Investors  Year Joined   \n",
       "16  Hillhouse Capital Management, Boyu Capital, Se...         2021  \\\n",
       "22  Sequoia Capital China, Longfor Capitalm, Gaoro...         2020   \n",
       "23              Accel, Softbank Group, Anthos Capital         2020   \n",
       "24  Lightspeed Venture Partners, Google Ventures, ...         2021   \n",
       "27  Andreessen Horowitz, Thirty Five Ventures, Sou...         2021   \n",
       "\n",
       "    Year To Unicorn Quarter Joined  \n",
       "16                6        2021-Q2  \n",
       "22                4        2020-Q1  \n",
       "23                7        2020-Q4  \n",
       "24               10        2021-Q1  \n",
       "27                4        2021-Q3  "
      ]
     },
     "execution_count": 26,
     "metadata": {},
     "output_type": "execute_result"
    }
   ],
   "source": [
    "uc_20_21.head()"
   ]
  },
  {
   "cell_type": "code",
   "execution_count": 27,
   "metadata": {},
   "outputs": [
    {
     "data": {
      "text/html": [
       "<div>\n",
       "<style scoped>\n",
       "    .dataframe tbody tr th:only-of-type {\n",
       "        vertical-align: middle;\n",
       "    }\n",
       "\n",
       "    .dataframe tbody tr th {\n",
       "        vertical-align: top;\n",
       "    }\n",
       "\n",
       "    .dataframe thead th {\n",
       "        text-align: right;\n",
       "    }\n",
       "</style>\n",
       "<table border=\"1\" class=\"dataframe\">\n",
       "  <thead>\n",
       "    <tr style=\"text-align: right;\">\n",
       "      <th></th>\n",
       "      <th>Year Joined</th>\n",
       "      <th># of companies</th>\n",
       "    </tr>\n",
       "  </thead>\n",
       "  <tbody>\n",
       "    <tr>\n",
       "      <th>0</th>\n",
       "      <td>2020</td>\n",
       "      <td>107</td>\n",
       "    </tr>\n",
       "    <tr>\n",
       "      <th>1</th>\n",
       "      <td>2021</td>\n",
       "      <td>506</td>\n",
       "    </tr>\n",
       "  </tbody>\n",
       "</table>\n",
       "</div>"
      ],
      "text/plain": [
       "   Year Joined  # of companies\n",
       "0         2020             107\n",
       "1         2021             506"
      ]
     },
     "execution_count": 27,
     "metadata": {},
     "output_type": "execute_result"
    }
   ],
   "source": [
    "uc_20_21.groupby(['Year Joined'], as_index=False).agg({'Company': 'count'}).rename(columns={'Company': '# of companies'})"
   ]
  },
  {
   "cell_type": "markdown",
   "metadata": {},
   "source": [
    "More companies attained unicorn status in 2021 than in 2020"
   ]
  },
  {
   "cell_type": "code",
   "execution_count": 28,
   "metadata": {},
   "outputs": [
    {
     "data": {
      "text/html": [
       "<div>\n",
       "<style scoped>\n",
       "    .dataframe tbody tr th:only-of-type {\n",
       "        vertical-align: middle;\n",
       "    }\n",
       "\n",
       "    .dataframe tbody tr th {\n",
       "        vertical-align: top;\n",
       "    }\n",
       "\n",
       "    .dataframe thead th {\n",
       "        text-align: right;\n",
       "    }\n",
       "</style>\n",
       "<table border=\"1\" class=\"dataframe\">\n",
       "  <thead>\n",
       "    <tr style=\"text-align: right;\">\n",
       "      <th></th>\n",
       "      <th>Quarter Joined</th>\n",
       "      <th>Avg Valuation</th>\n",
       "    </tr>\n",
       "  </thead>\n",
       "  <tbody>\n",
       "    <tr>\n",
       "      <th>0</th>\n",
       "      <td>2020-Q1</td>\n",
       "      <td>3.44</td>\n",
       "    </tr>\n",
       "    <tr>\n",
       "      <th>1</th>\n",
       "      <td>2020-Q2</td>\n",
       "      <td>3.76</td>\n",
       "    </tr>\n",
       "    <tr>\n",
       "      <th>2</th>\n",
       "      <td>2020-Q3</td>\n",
       "      <td>3.90</td>\n",
       "    </tr>\n",
       "    <tr>\n",
       "      <th>3</th>\n",
       "      <td>2020-Q4</td>\n",
       "      <td>3.70</td>\n",
       "    </tr>\n",
       "    <tr>\n",
       "      <th>4</th>\n",
       "      <td>2021-Q1</td>\n",
       "      <td>2.77</td>\n",
       "    </tr>\n",
       "    <tr>\n",
       "      <th>5</th>\n",
       "      <td>2021-Q2</td>\n",
       "      <td>2.35</td>\n",
       "    </tr>\n",
       "    <tr>\n",
       "      <th>6</th>\n",
       "      <td>2021-Q3</td>\n",
       "      <td>2.10</td>\n",
       "    </tr>\n",
       "    <tr>\n",
       "      <th>7</th>\n",
       "      <td>2021-Q4</td>\n",
       "      <td>1.79</td>\n",
       "    </tr>\n",
       "  </tbody>\n",
       "</table>\n",
       "</div>"
      ],
      "text/plain": [
       "  Quarter Joined  Avg Valuation\n",
       "0        2020-Q1           3.44\n",
       "1        2020-Q2           3.76\n",
       "2        2020-Q3           3.90\n",
       "3        2020-Q4           3.70\n",
       "4        2021-Q1           2.77\n",
       "5        2021-Q2           2.35\n",
       "6        2021-Q3           2.10\n",
       "7        2021-Q4           1.79"
      ]
     },
     "execution_count": 28,
     "metadata": {},
     "output_type": "execute_result"
    }
   ],
   "source": [
    "# Average valuation per quarter joined between 2020 and 2021\n",
    "company_by_quarter_20_21 = round(uc_20_21.groupby(['Quarter Joined'], as_index= False).agg({'Valuation':'mean'}).rename(columns={'Valuation': 'Avg Valuation'}), 2)\n",
    "company_by_quarter_20_21"
   ]
  },
  {
   "cell_type": "markdown",
   "metadata": {},
   "source": [
    "* After Q4 2020, companies have been getting lower valuation"
   ]
  },
  {
   "cell_type": "code",
   "execution_count": 29,
   "metadata": {},
   "outputs": [
    {
     "data": {
      "text/html": [
       "<div>\n",
       "<style scoped>\n",
       "    .dataframe tbody tr th:only-of-type {\n",
       "        vertical-align: middle;\n",
       "    }\n",
       "\n",
       "    .dataframe tbody tr th {\n",
       "        vertical-align: top;\n",
       "    }\n",
       "\n",
       "    .dataframe thead th {\n",
       "        text-align: right;\n",
       "    }\n",
       "</style>\n",
       "<table border=\"1\" class=\"dataframe\">\n",
       "  <thead>\n",
       "    <tr style=\"text-align: right;\">\n",
       "      <th></th>\n",
       "      <th>Year Joined</th>\n",
       "      <th>Avg Time To Unicorn</th>\n",
       "    </tr>\n",
       "  </thead>\n",
       "  <tbody>\n",
       "    <tr>\n",
       "      <th>0</th>\n",
       "      <td>2020</td>\n",
       "      <td>7.60</td>\n",
       "    </tr>\n",
       "    <tr>\n",
       "      <th>1</th>\n",
       "      <td>2021</td>\n",
       "      <td>6.82</td>\n",
       "    </tr>\n",
       "  </tbody>\n",
       "</table>\n",
       "</div>"
      ],
      "text/plain": [
       "   Year Joined  Avg Time To Unicorn\n",
       "0         2020                 7.60\n",
       "1         2021                 6.82"
      ]
     },
     "execution_count": 29,
     "metadata": {},
     "output_type": "execute_result"
    }
   ],
   "source": [
    "round(uc_20_21.groupby(['Year Joined'], as_index= False).agg({'Year To Unicorn':'mean'}).rename(columns={'Year To Unicorn': 'Avg Time To Unicorn'}), 2)"
   ]
  },
  {
   "cell_type": "markdown",
   "metadata": {},
   "source": [
    "Companies that attained unicorn status in 2020 took longer to attain it than companies that attained unicorn status in 2021"
   ]
  },
  {
   "cell_type": "code",
   "execution_count": 30,
   "metadata": {},
   "outputs": [
    {
     "data": {
      "image/png": "[encoded data removed]",
      "text/plain": [
       "<Figure size 1000x400 with 2 Axes>"
      ]
     },
     "metadata": {},
     "output_type": "display_data"
    }
   ],
   "source": [
    "# seperate year and quarter from company_by_quarter_20_21\n",
    "company_by_quarter_20_21['Quarter Number']= company_by_quarter_20_21['Quarter Joined'].str[-2:]\n",
    "company_by_quarter_20_21['Year']= company_by_quarter_20_21['Quarter Joined'].str[:4]\n",
    "company_by_quarter_20_21['Company Count']= uc_20_21.groupby(['Quarter Joined'], as_index= False).agg({'Company': 'count'}).drop(columns=['Quarter Joined'])\n",
    "\n",
    "#Create 2 bar char to compare number of companies that attained unicorn status per quarter, and average valuation per quarter between 2020 and 2021\n",
    "fig, axes= plt.subplots(1,2, figsize= (10,4))\n",
    "\n",
    "sns.barplot(data=company_by_quarter_20_21, \n",
    "            x= 'Quarter Number', \n",
    "            y= 'Company Count', \n",
    "            hue= 'Year',\n",
    "            errorbar= ('ci', False),\n",
    "            ax= axes[0])\n",
    "axes[0].set_title('Company count by quarter')\n",
    "\n",
    "sns.barplot(data=company_by_quarter_20_21, \n",
    "            x= 'Quarter Number', \n",
    "            y= 'Avg Valuation', \n",
    "            hue= 'Year',\n",
    "            errorbar= ('ci', False),\n",
    "            ax= axes[1])\n",
    "axes[1].set_title('Company avg valuation quarter')\n",
    "plt.legend(bbox_to_anchor=(1.01, 1))\n",
    "plt.show()\n"
   ]
  },
  {
   "cell_type": "markdown",
   "metadata": {},
   "source": [
    "## Result\n",
    "* More companies attained unicorn status in 2021, but had a lower valuation compared to 2020\n",
    "* There was a trend of valuation increase from Q1 to Q3 for 2020 and the opposite for 2021\n",
    "* Q3 2020 was the quarter with the highest average valutaion of companies that attained unicorn status, followed with a decrease in valuation going into 2021"
   ]
  },
  {
   "cell_type": "markdown",
   "metadata": {},
   "source": [
    "## Top countries by sum of valutation"
   ]
  },
  {
   "cell_type": "code",
   "execution_count": 31,
   "metadata": {},
   "outputs": [
    {
     "data": {
      "image/png": "[encoded data removed]",
      "text/plain": [
       "<Figure size 640x480 with 1 Axes>"
      ]
     },
     "metadata": {},
     "output_type": "display_data"
    }
   ],
   "source": [
    "# Fine the sum of valuation and aggregate it to Country/Region\n",
    "top_n_country= uc.groupby(['Country/Region'], as_index= False).agg({'Valuation': 'sum'}).rename(columns= {'Valuation': 'Total Valuation'}).sort_values(by= 'Total Valuation', ascending= False)\n",
    "\n",
    "sns.barplot(data= top_n_country.head(10), y= 'Country/Region', x= 'Total Valuation', palette= 'cool')\n",
    "plt.title('Country by sum of valuation')\n",
    "plt.xticks(rotation= 45, horizontalalignment= 'right')\n",
    "plt.show()"
   ]
  },
  {
   "cell_type": "markdown",
   "metadata": {},
   "source": [
    "The United States is dominating the chart, follow by China, India, United Kingdom\n",
    "\n",
    "Lets consider them as outliers and exclude them, cand compare the rest"
   ]
  },
  {
   "cell_type": "code",
   "execution_count": 32,
   "metadata": {},
   "outputs": [
    {
     "data": {
      "image/png": "[encoded data removed]",
      "text/plain": [
       "<Figure size 640x480 with 1 Axes>"
      ]
     },
     "metadata": {},
     "output_type": "display_data"
    }
   ],
   "source": [
    "# Filter out 'United States', 'China', 'India', and 'United Kingdom'\n",
    "top_countries= ['United States', 'China', 'India', 'United Kingdom']\n",
    "uc_outliers_removed= top_n_country[~top_n_country['Country/Region'].isin(top_countries)]\n",
    "\n",
    "sns.barplot(data= uc_outliers_removed.head(15), y= 'Country/Region', x= 'Total Valuation', palette='cool')\n",
    "plt.title('Top country by valuation, no outliers')\n",
    "plt.show()\n",
    "\n",
    "\n"
   ]
  },
  {
   "cell_type": "code",
   "execution_count": 33,
   "metadata": {},
   "outputs": [
    {
     "data": {
      "application/vnd.plotly.v1+json": {
       "config": {
        "plotlyServerURL": "https://plot.ly"
       },
       "data": [
        {
         "geo": "geo",
         "hovertemplate": "Country/Region=%{location}<br>Total Valuation=%{marker.size}<extra></extra>",
         "legendgroup": "Germany",
         "locationmode": "country names",
         "locations": [
          "Germany"
         ],
         "marker": {
          "color": "#636efa",
          "size": [
           72
          ],
          "sizemode": "area",
          "sizeref": 0.18,
          "symbol": "circle"
         },
         "mode": "markers",
         "name": "Germany",
         "showlegend": true,
         "type": "scattergeo"
        },
        {
         "geo": "geo",
         "hovertemplate": "Country/Region=%{location}<br>Total Valuation=%{marker.size}<extra></extra>",
         "legendgroup": "Sweden",
         "locationmode": "country names",
         "locations": [
          "Sweden"
         ],
         "marker": {
          "color": "#EF553B",
          "size": [
           63
          ],
          "sizemode": "area",
          "sizeref": 0.18,
          "symbol": "circle"
         },
         "mode": "markers",
         "name": "Sweden",
         "showlegend": true,
         "type": "scattergeo"
        },
        {
         "geo": "geo",
         "hovertemplate": "Country/Region=%{location}<br>Total Valuation=%{marker.size}<extra></extra>",
         "legendgroup": "Australia",
         "locationmode": "country names",
         "locations": [
          "Australia"
         ],
         "marker": {
          "color": "#00cc96",
          "size": [
           56
          ],
          "sizemode": "area",
          "sizeref": 0.18,
          "symbol": "circle"
         },
         "mode": "markers",
         "name": "Australia",
         "showlegend": true,
         "type": "scattergeo"
        },
        {
         "geo": "geo",
         "hovertemplate": "Country/Region=%{location}<br>Total Valuation=%{marker.size}<extra></extra>",
         "legendgroup": "France",
         "locationmode": "country names",
         "locations": [
          "France"
         ],
         "marker": {
          "color": "#ab63fa",
          "size": [
           55
          ],
          "sizemode": "area",
          "sizeref": 0.18,
          "symbol": "circle"
         },
         "mode": "markers",
         "name": "France",
         "showlegend": true,
         "type": "scattergeo"
        },
        {
         "geo": "geo",
         "hovertemplate": "Country/Region=%{location}<br>Total Valuation=%{marker.size}<extra></extra>",
         "legendgroup": "Canada",
         "locationmode": "country names",
         "locations": [
          "Canada"
         ],
         "marker": {
          "color": "#FFA15A",
          "size": [
           49
          ],
          "sizemode": "area",
          "sizeref": 0.18,
          "symbol": "circle"
         },
         "mode": "markers",
         "name": "Canada",
         "showlegend": true,
         "type": "scattergeo"
        },
        {
         "geo": "geo",
         "hovertemplate": "Country/Region=%{location}<br>Total Valuation=%{marker.size}<extra></extra>",
         "legendgroup": "South Korea",
         "locationmode": "country names",
         "locations": [
          "South Korea"
         ],
         "marker": {
          "color": "#19d3f3",
          "size": [
           41
          ],
          "sizemode": "area",
          "sizeref": 0.18,
          "symbol": "circle"
         },
         "mode": "markers",
         "name": "South Korea",
         "showlegend": true,
         "type": "scattergeo"
        },
        {
         "geo": "geo",
         "hovertemplate": "Country/Region=%{location}<br>Total Valuation=%{marker.size}<extra></extra>",
         "legendgroup": "Israel",
         "locationmode": "country names",
         "locations": [
          "Israel"
         ],
         "marker": {
          "color": "#FF6692",
          "size": [
           39
          ],
          "sizemode": "area",
          "sizeref": 0.18,
          "symbol": "circle"
         },
         "mode": "markers",
         "name": "Israel",
         "showlegend": true,
         "type": "scattergeo"
        },
        {
         "geo": "geo",
         "hovertemplate": "Country/Region=%{location}<br>Total Valuation=%{marker.size}<extra></extra>",
         "legendgroup": "Brazil",
         "locationmode": "country names",
         "locations": [
          "Brazil"
         ],
         "marker": {
          "color": "#B6E880",
          "size": [
           37
          ],
          "sizemode": "area",
          "sizeref": 0.18,
          "symbol": "circle"
         },
         "mode": "markers",
         "name": "Brazil",
         "showlegend": true,
         "type": "scattergeo"
        },
        {
         "geo": "geo",
         "hovertemplate": "Country/Region=%{location}<br>Total Valuation=%{marker.size}<extra></extra>",
         "legendgroup": "Indonesia",
         "locationmode": "country names",
         "locations": [
          "Indonesia"
         ],
         "marker": {
          "color": "#FF97FF",
          "size": [
           28
          ],
          "sizemode": "area",
          "sizeref": 0.18,
          "symbol": "circle"
         },
         "mode": "markers",
         "name": "Indonesia",
         "showlegend": true,
         "type": "scattergeo"
        },
        {
         "geo": "geo",
         "hovertemplate": "Country/Region=%{location}<br>Total Valuation=%{marker.size}<extra></extra>",
         "legendgroup": "Netherlands",
         "locationmode": "country names",
         "locations": [
          "Netherlands"
         ],
         "marker": {
          "color": "#FECB52",
          "size": [
           19
          ],
          "sizemode": "area",
          "sizeref": 0.18,
          "symbol": "circle"
         },
         "mode": "markers",
         "name": "Netherlands",
         "showlegend": true,
         "type": "scattergeo"
        },
        {
         "geo": "geo",
         "hovertemplate": "Country/Region=%{location}<br>Total Valuation=%{marker.size}<extra></extra>",
         "legendgroup": "Mexico",
         "locationmode": "country names",
         "locations": [
          "Mexico"
         ],
         "marker": {
          "color": "#636efa",
          "size": [
           16
          ],
          "sizemode": "area",
          "sizeref": 0.18,
          "symbol": "circle"
         },
         "mode": "markers",
         "name": "Mexico",
         "showlegend": true,
         "type": "scattergeo"
        },
        {
         "geo": "geo",
         "hovertemplate": "Country/Region=%{location}<br>Total Valuation=%{marker.size}<extra></extra>",
         "legendgroup": "Turkey",
         "locationmode": "country names",
         "locations": [
          "Turkey"
         ],
         "marker": {
          "color": "#EF553B",
          "size": [
           16
          ],
          "sizemode": "area",
          "sizeref": 0.18,
          "symbol": "circle"
         },
         "mode": "markers",
         "name": "Turkey",
         "showlegend": true,
         "type": "scattergeo"
        },
        {
         "geo": "geo",
         "hovertemplate": "Country/Region=%{location}<br>Total Valuation=%{marker.size}<extra></extra>",
         "legendgroup": "Hong Kong",
         "locationmode": "country names",
         "locations": [
          "Hong Kong"
         ],
         "marker": {
          "color": "#00cc96",
          "size": [
           13
          ],
          "sizemode": "area",
          "sizeref": 0.18,
          "symbol": "circle"
         },
         "mode": "markers",
         "name": "Hong Kong",
         "showlegend": true,
         "type": "scattergeo"
        },
        {
         "geo": "geo",
         "hovertemplate": "Country/Region=%{location}<br>Total Valuation=%{marker.size}<extra></extra>",
         "legendgroup": "Estonia",
         "locationmode": "country names",
         "locations": [
          "Estonia"
         ],
         "marker": {
          "color": "#ab63fa",
          "size": [
           13
          ],
          "sizemode": "area",
          "sizeref": 0.18,
          "symbol": "circle"
         },
         "mode": "markers",
         "name": "Estonia",
         "showlegend": true,
         "type": "scattergeo"
        },
        {
         "geo": "geo",
         "hovertemplate": "Country/Region=%{location}<br>Total Valuation=%{marker.size}<extra></extra>",
         "legendgroup": "Finland",
         "locationmode": "country names",
         "locations": [
          "Finland"
         ],
         "marker": {
          "color": "#FFA15A",
          "size": [
           12
          ],
          "sizemode": "area",
          "sizeref": 0.18,
          "symbol": "circle"
         },
         "mode": "markers",
         "name": "Finland",
         "showlegend": true,
         "type": "scattergeo"
        }
       ],
       "layout": {
        "geo": {
         "center": {},
         "domain": {
          "x": [
           0,
           1
          ],
          "y": [
           0,
           1
          ]
         }
        },
        "legend": {
         "itemsizing": "constant",
         "title": {
          "text": "Country/Region"
         },
         "tracegroupgap": 0
        },
        "margin": {
         "t": 60
        },
        "template": {
         "data": {
          "bar": [
           {
            "error_x": {
             "color": "#2a3f5f"
            },
            "error_y": {
             "color": "#2a3f5f"
            },
            "marker": {
             "line": {
              "color": "#E5ECF6",
              "width": 0.5
             },
             "pattern": {
              "fillmode": "overlay",
              "size": 10,
              "solidity": 0.2
             }
            },
            "type": "bar"
           }
          ],
          "barpolar": [
           {
            "marker": {
             "line": {
              "color": "#E5ECF6",
              "width": 0.5
             },
             "pattern": {
              "fillmode": "overlay",
              "size": 10,
              "solidity": 0.2
             }
            },
            "type": "barpolar"
           }
          ],
          "carpet": [
           {
            "aaxis": {
             "endlinecolor": "#2a3f5f",
             "gridcolor": "white",
             "linecolor": "white",
             "minorgridcolor": "white",
             "startlinecolor": "#2a3f5f"
            },
            "baxis": {
             "endlinecolor": "#2a3f5f",
             "gridcolor": "white",
             "linecolor": "white",
             "minorgridcolor": "white",
             "startlinecolor": "#2a3f5f"
            },
            "type": "carpet"
           }
          ],
          "choropleth": [
           {
            "colorbar": {
             "outlinewidth": 0,
             "ticks": ""
            },
            "type": "choropleth"
           }
          ],
          "contour": [
           {
            "colorbar": {
             "outlinewidth": 0,
             "ticks": ""
            },
            "colorscale": [
             [
              0,
              "#0d0887"
             ],
             [
              0.1111111111111111,
              "#46039f"
             ],
             [
              0.2222222222222222,
              "#7201a8"
             ],
             [
              0.3333333333333333,
              "#9c179e"
             ],
             [
              0.4444444444444444,
              "#bd3786"
             ],
             [
              0.5555555555555556,
              "#d8576b"
             ],
             [
              0.6666666666666666,
              "#ed7953"
             ],
             [
              0.7777777777777778,
              "#fb9f3a"
             ],
             [
              0.8888888888888888,
              "#fdca26"
             ],
             [
              1,
              "#f0f921"
             ]
            ],
            "type": "contour"
           }
          ],
          "contourcarpet": [
           {
            "colorbar": {
             "outlinewidth": 0,
             "ticks": ""
            },
            "type": "contourcarpet"
           }
          ],
          "heatmap": [
           {
            "colorbar": {
             "outlinewidth": 0,
             "ticks": ""
            },
            "colorscale": [
             [
              0,
              "#0d0887"
             ],
             [
              0.1111111111111111,
              "#46039f"
             ],
             [
              0.2222222222222222,
              "#7201a8"
             ],
             [
              0.3333333333333333,
              "#9c179e"
             ],
             [
              0.4444444444444444,
              "#bd3786"
             ],
             [
              0.5555555555555556,
              "#d8576b"
             ],
             [
              0.6666666666666666,
              "#ed7953"
             ],
             [
              0.7777777777777778,
              "#fb9f3a"
             ],
             [
              0.8888888888888888,
              "#fdca26"
             ],
             [
              1,
              "#f0f921"
             ]
            ],
            "type": "heatmap"
           }
          ],
          "heatmapgl": [
           {
            "colorbar": {
             "outlinewidth": 0,
             "ticks": ""
            },
            "colorscale": [
             [
              0,
              "#0d0887"
             ],
             [
              0.1111111111111111,
              "#46039f"
             ],
             [
              0.2222222222222222,
              "#7201a8"
             ],
             [
              0.3333333333333333,
              "#9c179e"
             ],
             [
              0.4444444444444444,
              "#bd3786"
             ],
             [
              0.5555555555555556,
              "#d8576b"
             ],
             [
              0.6666666666666666,
              "#ed7953"
             ],
             [
              0.7777777777777778,
              "#fb9f3a"
             ],
             [
              0.8888888888888888,
              "#fdca26"
             ],
             [
              1,
              "#f0f921"
             ]
            ],
            "type": "heatmapgl"
           }
          ],
          "histogram": [
           {
            "marker": {
             "pattern": {
              "fillmode": "overlay",
              "size": 10,
              "solidity": 0.2
             }
            },
            "type": "histogram"
           }
          ],
          "histogram2d": [
           {
            "colorbar": {
             "outlinewidth": 0,
             "ticks": ""
            },
            "colorscale": [
             [
              0,
              "#0d0887"
             ],
             [
              0.1111111111111111,
              "#46039f"
             ],
             [
              0.2222222222222222,
              "#7201a8"
             ],
             [
              0.3333333333333333,
              "#9c179e"
             ],
             [
              0.4444444444444444,
              "#bd3786"
             ],
             [
              0.5555555555555556,
              "#d8576b"
             ],
             [
              0.6666666666666666,
              "#ed7953"
             ],
             [
              0.7777777777777778,
              "#fb9f3a"
             ],
             [
              0.8888888888888888,
              "#fdca26"
             ],
             [
              1,
              "#f0f921"
             ]
            ],
            "type": "histogram2d"
           }
          ],
          "histogram2dcontour": [
           {
            "colorbar": {
             "outlinewidth": 0,
             "ticks": ""
            },
            "colorscale": [
             [
              0,
              "#0d0887"
             ],
             [
              0.1111111111111111,
              "#46039f"
             ],
             [
              0.2222222222222222,
              "#7201a8"
             ],
             [
              0.3333333333333333,
              "#9c179e"
             ],
             [
              0.4444444444444444,
              "#bd3786"
             ],
             [
              0.5555555555555556,
              "#d8576b"
             ],
             [
              0.6666666666666666,
              "#ed7953"
             ],
             [
              0.7777777777777778,
              "#fb9f3a"
             ],
             [
              0.8888888888888888,
              "#fdca26"
             ],
             [
              1,
              "#f0f921"
             ]
            ],
            "type": "histogram2dcontour"
           }
          ],
          "mesh3d": [
           {
            "colorbar": {
             "outlinewidth": 0,
             "ticks": ""
            },
            "type": "mesh3d"
           }
          ],
          "parcoords": [
           {
            "line": {
             "colorbar": {
              "outlinewidth": 0,
              "ticks": ""
             }
            },
            "type": "parcoords"
           }
          ],
          "pie": [
           {
            "automargin": true,
            "type": "pie"
           }
          ],
          "scatter": [
           {
            "fillpattern": {
             "fillmode": "overlay",
             "size": 10,
             "solidity": 0.2
            },
            "type": "scatter"
           }
          ],
          "scatter3d": [
           {
            "line": {
             "colorbar": {
              "outlinewidth": 0,
              "ticks": ""
             }
            },
            "marker": {
             "colorbar": {
              "outlinewidth": 0,
              "ticks": ""
             }
            },
            "type": "scatter3d"
           }
          ],
          "scattercarpet": [
           {
            "marker": {
             "colorbar": {
              "outlinewidth": 0,
              "ticks": ""
             }
            },
            "type": "scattercarpet"
           }
          ],
          "scattergeo": [
           {
            "marker": {
             "colorbar": {
              "outlinewidth": 0,
              "ticks": ""
             }
            },
            "type": "scattergeo"
           }
          ],
          "scattergl": [
           {
            "marker": {
             "colorbar": {
              "outlinewidth": 0,
              "ticks": ""
             }
            },
            "type": "scattergl"
           }
          ],
          "scattermapbox": [
           {
            "marker": {
             "colorbar": {
              "outlinewidth": 0,
              "ticks": ""
             }
            },
            "type": "scattermapbox"
           }
          ],
          "scatterpolar": [
           {
            "marker": {
             "colorbar": {
              "outlinewidth": 0,
              "ticks": ""
             }
            },
            "type": "scatterpolar"
           }
          ],
          "scatterpolargl": [
           {
            "marker": {
             "colorbar": {
              "outlinewidth": 0,
              "ticks": ""
             }
            },
            "type": "scatterpolargl"
           }
          ],
          "scatterternary": [
           {
            "marker": {
             "colorbar": {
              "outlinewidth": 0,
              "ticks": ""
             }
            },
            "type": "scatterternary"
           }
          ],
          "surface": [
           {
            "colorbar": {
             "outlinewidth": 0,
             "ticks": ""
            },
            "colorscale": [
             [
              0,
              "#0d0887"
             ],
             [
              0.1111111111111111,
              "#46039f"
             ],
             [
              0.2222222222222222,
              "#7201a8"
             ],
             [
              0.3333333333333333,
              "#9c179e"
             ],
             [
              0.4444444444444444,
              "#bd3786"
             ],
             [
              0.5555555555555556,
              "#d8576b"
             ],
             [
              0.6666666666666666,
              "#ed7953"
             ],
             [
              0.7777777777777778,
              "#fb9f3a"
             ],
             [
              0.8888888888888888,
              "#fdca26"
             ],
             [
              1,
              "#f0f921"
             ]
            ],
            "type": "surface"
           }
          ],
          "table": [
           {
            "cells": {
             "fill": {
              "color": "#EBF0F8"
             },
             "line": {
              "color": "white"
             }
            },
            "header": {
             "fill": {
              "color": "#C8D4E3"
             },
             "line": {
              "color": "white"
             }
            },
            "type": "table"
           }
          ]
         },
         "layout": {
          "annotationdefaults": {
           "arrowcolor": "#2a3f5f",
           "arrowhead": 0,
           "arrowwidth": 1
          },
          "autotypenumbers": "strict",
          "coloraxis": {
           "colorbar": {
            "outlinewidth": 0,
            "ticks": ""
           }
          },
          "colorscale": {
           "diverging": [
            [
             0,
             "#8e0152"
            ],
            [
             0.1,
             "#c51b7d"
            ],
            [
             0.2,
             "#de77ae"
            ],
            [
             0.3,
             "#f1b6da"
            ],
            [
             0.4,
             "#fde0ef"
            ],
            [
             0.5,
             "#f7f7f7"
            ],
            [
             0.6,
             "#e6f5d0"
            ],
            [
             0.7,
             "#b8e186"
            ],
            [
             0.8,
             "#7fbc41"
            ],
            [
             0.9,
             "#4d9221"
            ],
            [
             1,
             "#276419"
            ]
           ],
           "sequential": [
            [
             0,
             "#0d0887"
            ],
            [
             0.1111111111111111,
             "#46039f"
            ],
            [
             0.2222222222222222,
             "#7201a8"
            ],
            [
             0.3333333333333333,
             "#9c179e"
            ],
            [
             0.4444444444444444,
             "#bd3786"
            ],
            [
             0.5555555555555556,
             "#d8576b"
            ],
            [
             0.6666666666666666,
             "#ed7953"
            ],
            [
             0.7777777777777778,
             "#fb9f3a"
            ],
            [
             0.8888888888888888,
             "#fdca26"
            ],
            [
             1,
             "#f0f921"
            ]
           ],
           "sequentialminus": [
            [
             0,
             "#0d0887"
            ],
            [
             0.1111111111111111,
             "#46039f"
            ],
            [
             0.2222222222222222,
             "#7201a8"
            ],
            [
             0.3333333333333333,
             "#9c179e"
            ],
            [
             0.4444444444444444,
             "#bd3786"
            ],
            [
             0.5555555555555556,
             "#d8576b"
            ],
            [
             0.6666666666666666,
             "#ed7953"
            ],
            [
             0.7777777777777778,
             "#fb9f3a"
            ],
            [
             0.8888888888888888,
             "#fdca26"
            ],
            [
             1,
             "#f0f921"
            ]
           ]
          },
          "colorway": [
           "#636efa",
           "#EF553B",
           "#00cc96",
           "#ab63fa",
           "#FFA15A",
           "#19d3f3",
           "#FF6692",
           "#B6E880",
           "#FF97FF",
           "#FECB52"
          ],
          "font": {
           "color": "#2a3f5f"
          },
          "geo": {
           "bgcolor": "white",
           "lakecolor": "white",
           "landcolor": "#E5ECF6",
           "showlakes": true,
           "showland": true,
           "subunitcolor": "white"
          },
          "hoverlabel": {
           "align": "left"
          },
          "hovermode": "closest",
          "mapbox": {
           "style": "light"
          },
          "paper_bgcolor": "white",
          "plot_bgcolor": "#E5ECF6",
          "polar": {
           "angularaxis": {
            "gridcolor": "white",
            "linecolor": "white",
            "ticks": ""
           },
           "bgcolor": "#E5ECF6",
           "radialaxis": {
            "gridcolor": "white",
            "linecolor": "white",
            "ticks": ""
           }
          },
          "scene": {
           "xaxis": {
            "backgroundcolor": "#E5ECF6",
            "gridcolor": "white",
            "gridwidth": 2,
            "linecolor": "white",
            "showbackground": true,
            "ticks": "",
            "zerolinecolor": "white"
           },
           "yaxis": {
            "backgroundcolor": "#E5ECF6",
            "gridcolor": "white",
            "gridwidth": 2,
            "linecolor": "white",
            "showbackground": true,
            "ticks": "",
            "zerolinecolor": "white"
           },
           "zaxis": {
            "backgroundcolor": "#E5ECF6",
            "gridcolor": "white",
            "gridwidth": 2,
            "linecolor": "white",
            "showbackground": true,
            "ticks": "",
            "zerolinecolor": "white"
           }
          },
          "shapedefaults": {
           "line": {
            "color": "#2a3f5f"
           }
          },
          "ternary": {
           "aaxis": {
            "gridcolor": "white",
            "linecolor": "white",
            "ticks": ""
           },
           "baxis": {
            "gridcolor": "white",
            "linecolor": "white",
            "ticks": ""
           },
           "bgcolor": "#E5ECF6",
           "caxis": {
            "gridcolor": "white",
            "linecolor": "white",
            "ticks": ""
           }
          },
          "title": {
           "x": 0.05
          },
          "xaxis": {
           "automargin": true,
           "gridcolor": "white",
           "linecolor": "white",
           "ticks": "",
           "title": {
            "standoff": 15
           },
           "zerolinecolor": "white",
           "zerolinewidth": 2
          },
          "yaxis": {
           "automargin": true,
           "gridcolor": "white",
           "linecolor": "white",
           "ticks": "",
           "title": {
            "standoff": 15
           },
           "zerolinecolor": "white",
           "zerolinewidth": 2
          }
         }
        }
       }
      }
     },
     "metadata": {},
     "output_type": "display_data"
    }
   ],
   "source": [
    "px.scatter_geo(uc_outliers_removed.head(15),\n",
    "               locations= 'Country/Region',\n",
    "               size= 'Total Valuation',\n",
    "               locationmode= 'country names',\n",
    "               color= 'Country/Region')"
   ]
  },
  {
   "cell_type": "code",
   "execution_count": 34,
   "metadata": {},
   "outputs": [
    {
     "data": {
      "text/plain": [
       "15"
      ]
     },
     "execution_count": 34,
     "metadata": {},
     "output_type": "execute_result"
    }
   ],
   "source": [
    "uc['Industry'].nunique()"
   ]
  },
  {
   "cell_type": "markdown",
   "metadata": {},
   "source": [
    "## Who are the Top 3 Investors?"
   ]
  },
  {
   "cell_type": "code",
   "execution_count": 35,
   "metadata": {},
   "outputs": [],
   "source": [
    "# Unnest 'Select Investors'\n",
    "# count the number of company each investors is invested in\n",
    "top_investors= uc[['Company', 'Select Investors']].set_index('Company').apply(lambda x: x.str.split(',').explode()).reset_index()[\n",
    "    'Select Investors'\n",
    "].value_counts().sort_values(ascending=False)"
   ]
  },
  {
   "cell_type": "code",
   "execution_count": 36,
   "metadata": {},
   "outputs": [
    {
     "data": {
      "text/plain": [
       "Select Investors\n",
       " Tiger Global Management    39\n",
       " Accel                      31\n",
       " Sequoia Capital            30\n",
       "Sequoia Capital China       28\n",
       "Accel                       28\n",
       "                            ..\n",
       "B Capital Group              1\n",
       " GE Ventures                 1\n",
       " BECO Capital                1\n",
       " McKesson Ventures           1\n",
       " Causeway Media Partners     1\n",
       "Name: count, Length: 1505, dtype: int64"
      ]
     },
     "execution_count": 36,
     "metadata": {},
     "output_type": "execute_result"
    }
   ],
   "source": [
    "top_investors"
   ]
  },
  {
   "cell_type": "markdown",
   "metadata": {},
   "source": [
    "Top 3 investors are\n",
    "* `Tiger Global Management`\n",
    "* `Accel`\n",
    "* `Sequoia Capital`"
   ]
  },
  {
   "cell_type": "markdown",
   "metadata": {},
   "source": [
    "## Distribution of investment by top 3 Investors"
   ]
  },
  {
   "cell_type": "code",
   "execution_count": 37,
   "metadata": {},
   "outputs": [
    {
     "data": {
      "text/html": [
       "<div>\n",
       "<style scoped>\n",
       "    .dataframe tbody tr th:only-of-type {\n",
       "        vertical-align: middle;\n",
       "    }\n",
       "\n",
       "    .dataframe tbody tr th {\n",
       "        vertical-align: top;\n",
       "    }\n",
       "\n",
       "    .dataframe thead th {\n",
       "        text-align: right;\n",
       "    }\n",
       "</style>\n",
       "<table border=\"1\" class=\"dataframe\">\n",
       "  <thead>\n",
       "    <tr style=\"text-align: right;\">\n",
       "      <th></th>\n",
       "      <th>Company</th>\n",
       "      <th>Valuation</th>\n",
       "      <th>Date Joined</th>\n",
       "      <th>Industry</th>\n",
       "      <th>City</th>\n",
       "      <th>Country/Region</th>\n",
       "      <th>Continent</th>\n",
       "      <th>Year Founded</th>\n",
       "      <th>Funding</th>\n",
       "      <th>Select Investors</th>\n",
       "      <th>Year Joined</th>\n",
       "      <th>Year To Unicorn</th>\n",
       "      <th>Tiger Global Management</th>\n",
       "      <th>Accel</th>\n",
       "      <th>Sequoia Capital</th>\n",
       "    </tr>\n",
       "  </thead>\n",
       "  <tbody>\n",
       "    <tr>\n",
       "      <th>0</th>\n",
       "      <td>Bytedance</td>\n",
       "      <td>180</td>\n",
       "      <td>2017-04-07</td>\n",
       "      <td>Artificial Intelligence</td>\n",
       "      <td>Beijing</td>\n",
       "      <td>China</td>\n",
       "      <td>Asia</td>\n",
       "      <td>2012</td>\n",
       "      <td>$8B</td>\n",
       "      <td>Sequoia Capital China, SIG Asia Investments, S...</td>\n",
       "      <td>2017</td>\n",
       "      <td>5</td>\n",
       "      <td>0</td>\n",
       "      <td>0</td>\n",
       "      <td>1</td>\n",
       "    </tr>\n",
       "    <tr>\n",
       "      <th>1</th>\n",
       "      <td>SpaceX</td>\n",
       "      <td>100</td>\n",
       "      <td>2012-12-01</td>\n",
       "      <td>Other</td>\n",
       "      <td>Hawthorne</td>\n",
       "      <td>United States</td>\n",
       "      <td>North America</td>\n",
       "      <td>2002</td>\n",
       "      <td>$7B</td>\n",
       "      <td>Founders Fund, Draper Fisher Jurvetson, Rothen...</td>\n",
       "      <td>2012</td>\n",
       "      <td>10</td>\n",
       "      <td>0</td>\n",
       "      <td>0</td>\n",
       "      <td>0</td>\n",
       "    </tr>\n",
       "    <tr>\n",
       "      <th>2</th>\n",
       "      <td>SHEIN</td>\n",
       "      <td>100</td>\n",
       "      <td>2018-07-03</td>\n",
       "      <td>E-commerce &amp; direct-to-consumer</td>\n",
       "      <td>Shenzhen</td>\n",
       "      <td>China</td>\n",
       "      <td>Asia</td>\n",
       "      <td>2008</td>\n",
       "      <td>$2B</td>\n",
       "      <td>Tiger Global Management, Sequoia Capital China...</td>\n",
       "      <td>2018</td>\n",
       "      <td>10</td>\n",
       "      <td>1</td>\n",
       "      <td>0</td>\n",
       "      <td>1</td>\n",
       "    </tr>\n",
       "    <tr>\n",
       "      <th>3</th>\n",
       "      <td>Stripe</td>\n",
       "      <td>95</td>\n",
       "      <td>2014-01-23</td>\n",
       "      <td>Fintech</td>\n",
       "      <td>San Francisco</td>\n",
       "      <td>United States</td>\n",
       "      <td>North America</td>\n",
       "      <td>2010</td>\n",
       "      <td>$2B</td>\n",
       "      <td>Khosla Ventures, LowercaseCapital, capitalG</td>\n",
       "      <td>2014</td>\n",
       "      <td>4</td>\n",
       "      <td>0</td>\n",
       "      <td>0</td>\n",
       "      <td>0</td>\n",
       "    </tr>\n",
       "    <tr>\n",
       "      <th>4</th>\n",
       "      <td>Klarna</td>\n",
       "      <td>46</td>\n",
       "      <td>2011-12-12</td>\n",
       "      <td>Fintech</td>\n",
       "      <td>Stockholm</td>\n",
       "      <td>Sweden</td>\n",
       "      <td>Europe</td>\n",
       "      <td>2005</td>\n",
       "      <td>$4B</td>\n",
       "      <td>Institutional Venture Partners, Sequoia Capita...</td>\n",
       "      <td>2011</td>\n",
       "      <td>6</td>\n",
       "      <td>0</td>\n",
       "      <td>0</td>\n",
       "      <td>1</td>\n",
       "    </tr>\n",
       "  </tbody>\n",
       "</table>\n",
       "</div>"
      ],
      "text/plain": [
       "     Company  Valuation Date Joined                         Industry   \n",
       "0  Bytedance        180  2017-04-07          Artificial Intelligence  \\\n",
       "1     SpaceX        100  2012-12-01                            Other   \n",
       "2      SHEIN        100  2018-07-03  E-commerce & direct-to-consumer   \n",
       "3     Stripe         95  2014-01-23                          Fintech   \n",
       "4     Klarna         46  2011-12-12                          Fintech   \n",
       "\n",
       "            City Country/Region      Continent  Year Founded Funding   \n",
       "0        Beijing          China           Asia          2012     $8B  \\\n",
       "1      Hawthorne  United States  North America          2002     $7B   \n",
       "2       Shenzhen          China           Asia          2008     $2B   \n",
       "3  San Francisco  United States  North America          2010     $2B   \n",
       "4      Stockholm         Sweden         Europe          2005     $4B   \n",
       "\n",
       "                                    Select Investors  Year Joined   \n",
       "0  Sequoia Capital China, SIG Asia Investments, S...         2017  \\\n",
       "1  Founders Fund, Draper Fisher Jurvetson, Rothen...         2012   \n",
       "2  Tiger Global Management, Sequoia Capital China...         2018   \n",
       "3        Khosla Ventures, LowercaseCapital, capitalG         2014   \n",
       "4  Institutional Venture Partners, Sequoia Capita...         2011   \n",
       "\n",
       "   Year To Unicorn  Tiger Global Management  Accel  Sequoia Capital  \n",
       "0                5                        0      0                1  \n",
       "1               10                        0      0                0  \n",
       "2               10                        1      0                1  \n",
       "3                4                        0      0                0  \n",
       "4                6                        0      0                1  "
      ]
     },
     "execution_count": 37,
     "metadata": {},
     "output_type": "execute_result"
    }
   ],
   "source": [
    "# Create a dummy variable that denotes if top 3 investors are invested in a company\n",
    "\n",
    "# For 'Tiger Global Management'\n",
    "uc['Tiger Global Management']= uc['Select Investors'].str.contains('Tiger Global Management').astype(int)\n",
    "\n",
    "# For 'Accel'\n",
    "uc['Accel']= uc['Select Investors'].str.contains('Accel').astype(int)\n",
    "\n",
    "# For 'Sequoia Capital'\n",
    "uc['Sequoia Capital']= uc['Select Investors'].str.contains('Sequoia Capital').astype(int)\n",
    "\n",
    "uc.head(5)"
   ]
  },
  {
   "cell_type": "code",
   "execution_count": 38,
   "metadata": {},
   "outputs": [
    {
     "data": {
      "image/png": "[encoded data removed]",
      "text/plain": [
       "<Figure size 1500x500 with 3 Axes>"
      ]
     },
     "metadata": {},
     "output_type": "display_data"
    }
   ],
   "source": [
    "# Create 3 bar plots for the distribution of investment by the top 3 investors\n",
    "fig, axes= plt.subplots(1,3, figsize= (15, 5))\n",
    "idx= 0\n",
    "\n",
    "for i in ['Tiger Global Management', 'Accel', 'Sequoia Capital']:\n",
    "    x= uc[uc[i]== 1]\n",
    "    x= x.Industry.value_counts().sort_values(ascending= False)\n",
    "    \n",
    "    sns.barplot(x= x.index,\n",
    "                y= x.values,\n",
    "                ax= axes[idx],\n",
    "                palette= 'cool')\n",
    "    axes[idx].set_title(i)\n",
    "    axes[idx].set_ylabel('Number of invested companies')\n",
    "    axes[idx].set_xlabel('Industry')\n",
    "    axes[idx].set_xticklabels(x.index, rotation = 90)\n",
    "    \n",
    "    idx +=1\n",
    "plt.suptitle('Distribution of investement by top 3 investors', fontsize= 15)\n",
    "plt.show()"
   ]
  },
  {
   "cell_type": "markdown",
   "metadata": {},
   "source": [
    "The top 3 investing firms are mostly invested\n",
    "* `Internet software & services`\n",
    "* `Fintech`\n",
    "* `E-commerce & direct-to-consumer`\n",
    "\n",
    "`Tiger Global Management` is the only top unicorn investor to not invest in supply chain and logistics.\n",
    "\n",
    "`Accel` has invested in more cybersecurity unicorns then the `Tiger Gloabl Managemen` and `Sequoia Capital`\n",
    "\n",
    "`Sequoia Capital` is the only top 3 investing firm to invest in travel unicorns"
   ]
  },
  {
   "cell_type": "markdown",
   "metadata": {},
   "source": [
    "## Continents of unicorns invested in by the top 3 investors"
   ]
  },
  {
   "cell_type": "code",
   "execution_count": 39,
   "metadata": {},
   "outputs": [
    {
     "name": "stdout",
     "output_type": "stream",
     "text": [
      "Number of uniques continents\n",
      "6\n",
      "Continents:\n",
      "['Asia' 'North America' 'Europe' 'Oceania' 'South America' 'Africa']\n"
     ]
    }
   ],
   "source": [
    "print('Number of uniques continents')\n",
    "print(uc.Continent.nunique())\n",
    "print('Continents:')\n",
    "print(uc.Continent.unique())"
   ]
  },
  {
   "cell_type": "code",
   "execution_count": 40,
   "metadata": {},
   "outputs": [
    {
     "data": {
      "image/png": "[encoded data removed]",
      "text/plain": [
       "<Figure size 1500x500 with 3 Axes>"
      ]
     },
     "metadata": {},
     "output_type": "display_data"
    }
   ],
   "source": [
    "fig, axes= plt.subplots(1,3, figsize= (15,5))\n",
    "idx= 0\n",
    "\n",
    "for i in ['Tiger Global Management', 'Accel', 'Sequoia Capital']:\n",
    "    x= uc[uc[i]== 1]\n",
    "    x= x.Continent.value_counts()\n",
    "    \n",
    "    sns.barplot(x= x.index,\n",
    "                y= x.values,\n",
    "                ax= axes[idx],\n",
    "                palette= 'cool')\n",
    "    axes[idx].set_title(i)\n",
    "    axes[idx].set_ylabel('Number of invested companies')\n",
    "    axes[idx].set_xlabel('Continent')\n",
    "    axes[idx].set_xticklabels(x.index, rotation = 90)\n",
    "    \n",
    "    idx +=1\n",
    "plt.suptitle('Locations of investement by top 3 investors', fontsize= 15)\n",
    "plt.show()\n",
    "    \n"
   ]
  },
  {
   "cell_type": "markdown",
   "metadata": {},
   "source": [
    "Add Africa, and Oceania to `Accel` and Africa to `Tiger Global Management`"
   ]
  },
  {
   "cell_type": "code",
   "execution_count": 41,
   "metadata": {},
   "outputs": [
    {
     "data": {
      "image/png": "[encoded data removed]",
      "text/plain": [
       "<Figure size 1500x500 with 3 Axes>"
      ]
     },
     "metadata": {},
     "output_type": "display_data"
    }
   ],
   "source": [
    "fig, axes= plt.subplots(1,3, figsize= (15, 5))\n",
    "idx= 0\n",
    "\n",
    "for i in ['Tiger Global Management', 'Accel', 'Sequoia Capital']:\n",
    "    x= uc[uc[i]== 1]\n",
    "    x= x.Continent.value_counts()\n",
    "    \n",
    "    if 'Africa' not in x.index:\n",
    "        x['Africa']= 0\n",
    "    if 'Oceania' not in x.index:\n",
    "        x['Oceania']= 0\n",
    "    \n",
    "    sns.barplot(x= x.index,\n",
    "                y= x.values,\n",
    "                ax= axes[idx],\n",
    "                palette= 'cool')\n",
    "    axes[idx].set_title(i)\n",
    "    axes[idx].set_xlabel('Continent')\n",
    "    axes[idx].set_ylabel('Number of invested companies')\n",
    "    axes[idx].set_xticklabels(x.index, rotation= 90)\n",
    "    \n",
    "    idx +=1\n",
    "plt.suptitle('Locations of investment by top 3 investors', fontsize= 15)\n",
    "plt.show()"
   ]
  },
  {
   "cell_type": "markdown",
   "metadata": {},
   "source": [
    "`Sequoia Capital` is the only top 3 to investor to invest in all of the continents, and mostly invested in unicorns in Asia\n",
    "\n",
    "Both `Tiger Globa Management` and `Accel` are not invested in unicorns in Africa"
   ]
  },
  {
   "cell_type": "markdown",
   "metadata": {},
   "source": [
    "## Average years to unicorn for companies invested in by the top 3 investors"
   ]
  },
  {
   "cell_type": "code",
   "execution_count": 42,
   "metadata": {},
   "outputs": [
    {
     "data": {
      "text/html": [
       "<div>\n",
       "<style scoped>\n",
       "    .dataframe tbody tr th:only-of-type {\n",
       "        vertical-align: middle;\n",
       "    }\n",
       "\n",
       "    .dataframe tbody tr th {\n",
       "        vertical-align: top;\n",
       "    }\n",
       "\n",
       "    .dataframe thead th {\n",
       "        text-align: right;\n",
       "    }\n",
       "</style>\n",
       "<table border=\"1\" class=\"dataframe\">\n",
       "  <thead>\n",
       "    <tr style=\"text-align: right;\">\n",
       "      <th></th>\n",
       "      <th>Company</th>\n",
       "      <th>Valuation</th>\n",
       "      <th>Date Joined</th>\n",
       "      <th>Industry</th>\n",
       "      <th>City</th>\n",
       "      <th>Country/Region</th>\n",
       "      <th>Continent</th>\n",
       "      <th>Year Founded</th>\n",
       "      <th>Funding</th>\n",
       "      <th>Select Investors</th>\n",
       "      <th>Year Joined</th>\n",
       "      <th>Year To Unicorn</th>\n",
       "      <th>Tiger Global Management</th>\n",
       "      <th>Accel</th>\n",
       "      <th>Sequoia Capital</th>\n",
       "    </tr>\n",
       "  </thead>\n",
       "  <tbody>\n",
       "    <tr>\n",
       "      <th>0</th>\n",
       "      <td>Bytedance</td>\n",
       "      <td>180</td>\n",
       "      <td>2017-04-07</td>\n",
       "      <td>Artificial Intelligence</td>\n",
       "      <td>Beijing</td>\n",
       "      <td>China</td>\n",
       "      <td>Asia</td>\n",
       "      <td>2012</td>\n",
       "      <td>$8B</td>\n",
       "      <td>Sequoia Capital China, SIG Asia Investments, S...</td>\n",
       "      <td>2017</td>\n",
       "      <td>5</td>\n",
       "      <td>0</td>\n",
       "      <td>0</td>\n",
       "      <td>1</td>\n",
       "    </tr>\n",
       "    <tr>\n",
       "      <th>1</th>\n",
       "      <td>SpaceX</td>\n",
       "      <td>100</td>\n",
       "      <td>2012-12-01</td>\n",
       "      <td>Other</td>\n",
       "      <td>Hawthorne</td>\n",
       "      <td>United States</td>\n",
       "      <td>North America</td>\n",
       "      <td>2002</td>\n",
       "      <td>$7B</td>\n",
       "      <td>Founders Fund, Draper Fisher Jurvetson, Rothen...</td>\n",
       "      <td>2012</td>\n",
       "      <td>10</td>\n",
       "      <td>0</td>\n",
       "      <td>0</td>\n",
       "      <td>0</td>\n",
       "    </tr>\n",
       "    <tr>\n",
       "      <th>2</th>\n",
       "      <td>SHEIN</td>\n",
       "      <td>100</td>\n",
       "      <td>2018-07-03</td>\n",
       "      <td>E-commerce &amp; direct-to-consumer</td>\n",
       "      <td>Shenzhen</td>\n",
       "      <td>China</td>\n",
       "      <td>Asia</td>\n",
       "      <td>2008</td>\n",
       "      <td>$2B</td>\n",
       "      <td>Tiger Global Management, Sequoia Capital China...</td>\n",
       "      <td>2018</td>\n",
       "      <td>10</td>\n",
       "      <td>1</td>\n",
       "      <td>0</td>\n",
       "      <td>1</td>\n",
       "    </tr>\n",
       "    <tr>\n",
       "      <th>3</th>\n",
       "      <td>Stripe</td>\n",
       "      <td>95</td>\n",
       "      <td>2014-01-23</td>\n",
       "      <td>Fintech</td>\n",
       "      <td>San Francisco</td>\n",
       "      <td>United States</td>\n",
       "      <td>North America</td>\n",
       "      <td>2010</td>\n",
       "      <td>$2B</td>\n",
       "      <td>Khosla Ventures, LowercaseCapital, capitalG</td>\n",
       "      <td>2014</td>\n",
       "      <td>4</td>\n",
       "      <td>0</td>\n",
       "      <td>0</td>\n",
       "      <td>0</td>\n",
       "    </tr>\n",
       "    <tr>\n",
       "      <th>4</th>\n",
       "      <td>Klarna</td>\n",
       "      <td>46</td>\n",
       "      <td>2011-12-12</td>\n",
       "      <td>Fintech</td>\n",
       "      <td>Stockholm</td>\n",
       "      <td>Sweden</td>\n",
       "      <td>Europe</td>\n",
       "      <td>2005</td>\n",
       "      <td>$4B</td>\n",
       "      <td>Institutional Venture Partners, Sequoia Capita...</td>\n",
       "      <td>2011</td>\n",
       "      <td>6</td>\n",
       "      <td>0</td>\n",
       "      <td>0</td>\n",
       "      <td>1</td>\n",
       "    </tr>\n",
       "  </tbody>\n",
       "</table>\n",
       "</div>"
      ],
      "text/plain": [
       "     Company  Valuation Date Joined                         Industry   \n",
       "0  Bytedance        180  2017-04-07          Artificial Intelligence  \\\n",
       "1     SpaceX        100  2012-12-01                            Other   \n",
       "2      SHEIN        100  2018-07-03  E-commerce & direct-to-consumer   \n",
       "3     Stripe         95  2014-01-23                          Fintech   \n",
       "4     Klarna         46  2011-12-12                          Fintech   \n",
       "\n",
       "            City Country/Region      Continent  Year Founded Funding   \n",
       "0        Beijing          China           Asia          2012     $8B  \\\n",
       "1      Hawthorne  United States  North America          2002     $7B   \n",
       "2       Shenzhen          China           Asia          2008     $2B   \n",
       "3  San Francisco  United States  North America          2010     $2B   \n",
       "4      Stockholm         Sweden         Europe          2005     $4B   \n",
       "\n",
       "                                    Select Investors  Year Joined   \n",
       "0  Sequoia Capital China, SIG Asia Investments, S...         2017  \\\n",
       "1  Founders Fund, Draper Fisher Jurvetson, Rothen...         2012   \n",
       "2  Tiger Global Management, Sequoia Capital China...         2018   \n",
       "3        Khosla Ventures, LowercaseCapital, capitalG         2014   \n",
       "4  Institutional Venture Partners, Sequoia Capita...         2011   \n",
       "\n",
       "   Year To Unicorn  Tiger Global Management  Accel  Sequoia Capital  \n",
       "0                5                        0      0                1  \n",
       "1               10                        0      0                0  \n",
       "2               10                        1      0                1  \n",
       "3                4                        0      0                0  \n",
       "4                6                        0      0                1  "
      ]
     },
     "execution_count": 42,
     "metadata": {},
     "output_type": "execute_result"
    }
   ],
   "source": [
    "uc.head(5)"
   ]
  },
  {
   "cell_type": "code",
   "execution_count": 48,
   "metadata": {},
   "outputs": [
    {
     "name": "stdout",
     "output_type": "stream",
     "text": [
      "Avg years to unicorn for Tiger Global Management:\n",
      "7.3 years\n",
      "Avg years to unicorn for Accel:\n",
      "6.9 years\n",
      "Avg years to unicorn for Sequoia Capital:\n",
      "6.5 years\n"
     ]
    }
   ],
   "source": [
    "# Mean years to unicorn for 'Tiger Global Management'\n",
    "print('Avg years to unicorn for Tiger Global Management:')\n",
    "print(round(uc[uc['Tiger Global Management']== 1]['Year To Unicorn'].mean(), 1), 'years')\n",
    "\n",
    "# Mean years to unicorn for 'Accel'\n",
    "print('Avg years to unicorn for Accel:')\n",
    "print(round(uc[uc['Accel']== 1]['Year To Unicorn'].mean(), 1), 'years')\n",
    "\n",
    "# Mean year to unicorn for 'Sequoia Capital'\n",
    "print('Avg years to unicorn for Sequoia Capital:')\n",
    "print(round(uc[uc['Sequoia Capital']== 1]['Year To Unicorn'].mean(), 1), 'years')"
   ]
  },
  {
   "cell_type": "markdown",
   "metadata": {},
   "source": [
    "On average, companies invested in by `Sequoia Capital` attained unicorn status faster compared to companies invested in by `Tiger Global Management` and `Accel`"
   ]
  },
  {
   "cell_type": "markdown",
   "metadata": {},
   "source": [
    "## Top 3 companies with highest valuation for the top 3 investing firms"
   ]
  },
  {
   "cell_type": "code",
   "execution_count": 44,
   "metadata": {},
   "outputs": [
    {
     "name": "stdout",
     "output_type": "stream",
     "text": [
      "Highest valued unicorns invested in by Tiger Global Management:\n",
      "['SHEIN' 'Checkout.com' 'JUUL Labs']\n",
      "\n",
      "Highest valued unicorns invested in by Accel:\n",
      "['Miro' 'goPuff' 'Celonis']\n",
      "\n",
      "Highest valued unicorns invested in by Sequoia Capital:\n",
      "['Bytedance' 'SHEIN' 'Klarna']\n"
     ]
    }
   ],
   "source": [
    "# sort the df in descending order by valuation\n",
    "uc = uc.sort_values(by= 'Valuation', ascending= False)\n",
    "\n",
    "# top 3 valued companies invested in by 'Tiger Global Management'\n",
    "print('Highest valued unicorns invested in by Tiger Global Management:')\n",
    "print(uc[uc['Tiger Global Management']==1]['Company'].values[:3])\n",
    "print('')\n",
    "# top 3 valued companies invested in by 'Accel'\n",
    "print('Highest valued unicorns invested in by Accel:')\n",
    "print(uc[uc['Accel']==1]['Company'].values[:3])\n",
    "print('')\n",
    "# top 3 valued companies invested in by 'Sequoia Capital'\n",
    "print('Highest valued unicorns invested in by Sequoia Capital:')\n",
    "print(uc[uc['Sequoia Capital']==1]['Company'].values[:3])"
   ]
  },
  {
   "cell_type": "markdown",
   "metadata": {},
   "source": [
    "The companies with the highest valuation by `Tiger Global Management` are:\n",
    "* SHEIN, Checkout.com, and JUUL Labs \n",
    "\n",
    "The companies with the highest valuation by `Accel` are:\n",
    "* Moro, goPuff, and Celonis\n",
    "\n",
    "The companies with the highest valuation by `Sequoia Capital` are: \n",
    "* Bytedance, SHEIN, and Klarna"
   ]
  },
  {
   "cell_type": "markdown",
   "metadata": {},
   "source": [
    "## Companies with 2 or more top 3 investors"
   ]
  },
  {
   "cell_type": "code",
   "execution_count": 45,
   "metadata": {},
   "outputs": [
    {
     "name": "stdout",
     "output_type": "stream",
     "text": [
      "Number of companies with 2 or more top investors:\n",
      "18\n",
      "\n",
      "['SHEIN' 'Getir' 'Razorpay' 'DJI Innovations' 'Ola Cabs' 'CRED'\n",
      " 'ChargeBee Technologies' 'Ironclad' 'Groww' 'Infra.Market' 'Zetwerk'\n",
      " 'Ethos' 'CoinSwitch Kuber' 'Veriff' 'Zenoti' 'Vedantu'\n",
      " 'Five Star Business Finance' 'CaptivateIQ']\n"
     ]
    }
   ],
   "source": [
    "# create a column that contanin the total number of investors(top 3 only)\n",
    "uc['Top 3 Investors'] = uc['Tiger Global Management'] + uc['Accel'] + uc['Sequoia Capital']\n",
    "\n",
    "# Filter to only companies with more then 2 top 3 investors\n",
    "top_company= uc[uc['Top 3 Investors']>= 2]\n",
    "\n",
    "\n",
    "print('Number of companies with 2 or more top investors:')\n",
    "print(len(top_company[top_company['Top 3 Investors']>= 2]['Company'].values))\n",
    "print('')\n",
    "print(top_company[top_company['Top 3 Investors']>= 2]['Company'].values)"
   ]
  },
  {
   "cell_type": "markdown",
   "metadata": {},
   "source": [
    "There are 18 companies with 2 or more top investing firms"
   ]
  },
  {
   "cell_type": "markdown",
   "metadata": {},
   "source": [
    "# Summary\n",
    "* Sequoia Capital, Tiger Global Management, and Accel invest in several industries, but the majority of investments are in internet software and services, fintech, and e-commerce and direct-to-consumer companies.\n",
    "* Sequoia Capital has a stronger focus on unicorn companies in Asia than the other top unicorn investors. The majority of unicorns invested in by Tiger Global Management and Accel are in North America.\n",
    "* The companies invested in by Sequoia Capital reached unicorn status faster than those invested in by Tiger Global Management and Accel, at an average of 6.6 years between founding and reaching unicorn status.\n",
    "* There are 18 companies invested in simultaneously by two of the top three unicorn investment firms.\n",
    "* The highest-valued unicorns invested in by Sequoia Capital are Bytedance, SHEIN, and Klarna. The highest-valued unicorns invested in by Tiger Global Management are SHEIN, Checkout.com, and JUUL Labs. The highest-valued unicorns invested in by Accel are Miro, goPuff, and Celonis.\n",
    " "
   ]
  }
 ],
 "metadata": {
  "kernelspec": {
   "display_name": "Python 3",
   "language": "python",
   "name": "python3"
  },
  "language_info": {
   "codemirror_mode": {
    "name": "ipython",
    "version": 3
   },
   "file_extension": ".py",
   "mimetype": "text/x-python",
   "name": "python",
   "nbconvert_exporter": "python",
   "pygments_lexer": "ipython3",
   "version": "3.11.3"
  },
  "orig_nbformat": 4
 },
 "nbformat": 4,
 "nbformat_minor": 2
}
